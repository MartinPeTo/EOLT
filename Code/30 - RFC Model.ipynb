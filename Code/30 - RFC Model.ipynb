{
 "cells": [
  {
   "cell_type": "code",
   "execution_count": 21,
   "metadata": {},
   "outputs": [],
   "source": [
    "#Import\n",
    "\n",
    "import pandas as pd\n",
    "import numpy as np\n",
    "from sklearn.ensemble import RandomForestClassifier\n",
    "from sklearn.metrics import f1_score\n",
    "from sklearn.metrics import accuracy_score\n",
    "from sklearn.metrics import confusion_matrix\n",
    "\n",
    "from sklearn.model_selection import train_test_split\n",
    "from sklearn.model_selection import GridSearchCV\n",
    "from sklearn.model_selection import KFold\n",
    "\n",
    "from sklearn.preprocessing import Normalizer\n",
    "from sklearn.neighbors import KNeighborsClassifier"
   ]
  },
  {
   "cell_type": "code",
   "execution_count": 3,
   "metadata": {},
   "outputs": [],
   "source": [
    "df = pd.read_csv('../Data/final.csv', index_col=0)"
   ]
  },
  {
   "cell_type": "code",
   "execution_count": 4,
   "metadata": {},
   "outputs": [
    {
     "data": {
      "text/html": [
       "<div>\n",
       "<style scoped>\n",
       "    .dataframe tbody tr th:only-of-type {\n",
       "        vertical-align: middle;\n",
       "    }\n",
       "\n",
       "    .dataframe tbody tr th {\n",
       "        vertical-align: top;\n",
       "    }\n",
       "\n",
       "    .dataframe thead th {\n",
       "        text-align: right;\n",
       "    }\n",
       "</style>\n",
       "<table border=\"1\" class=\"dataframe\">\n",
       "  <thead>\n",
       "    <tr style=\"text-align: right;\">\n",
       "      <th></th>\n",
       "      <th>A_Indep_Front</th>\n",
       "      <th>A_RollSpeed_Front</th>\n",
       "      <th>A_R2R2W_Front</th>\n",
       "      <th>KM_Front</th>\n",
       "      <th>KM_DEV_Front</th>\n",
       "      <th>A_Indep_Rear</th>\n",
       "      <th>A_RollSpeed_Rear</th>\n",
       "      <th>A_R2R2W_Rear</th>\n",
       "      <th>KM_Rear</th>\n",
       "      <th>KM_DEV_Rear</th>\n",
       "      <th>TR_PWM_SLOP_FRONT</th>\n",
       "      <th>TR_PWM_OFFSET_FRONT</th>\n",
       "      <th>R2_Front</th>\n",
       "      <th>TR_AccuENC_RATIO_FRONT</th>\n",
       "      <th>TR_PWM_SLOP_REAR</th>\n",
       "      <th>TR_PWM_OFFSET_REAR</th>\n",
       "      <th>R2_Rear</th>\n",
       "      <th>TR_AccuENC_RATIO_REAR</th>\n",
       "      <th>status</th>\n",
       "    </tr>\n",
       "    <tr>\n",
       "      <th>SN</th>\n",
       "      <th></th>\n",
       "      <th></th>\n",
       "      <th></th>\n",
       "      <th></th>\n",
       "      <th></th>\n",
       "      <th></th>\n",
       "      <th></th>\n",
       "      <th></th>\n",
       "      <th></th>\n",
       "      <th></th>\n",
       "      <th></th>\n",
       "      <th></th>\n",
       "      <th></th>\n",
       "      <th></th>\n",
       "      <th></th>\n",
       "      <th></th>\n",
       "      <th></th>\n",
       "      <th></th>\n",
       "      <th></th>\n",
       "    </tr>\n",
       "  </thead>\n",
       "  <tbody>\n",
       "    <tr>\n",
       "      <th>DRW091810461</th>\n",
       "      <td>0.390513</td>\n",
       "      <td>0.000601</td>\n",
       "      <td>128.379043</td>\n",
       "      <td>0.041950</td>\n",
       "      <td>0.037106</td>\n",
       "      <td>0.468861</td>\n",
       "      <td>0.000664</td>\n",
       "      <td>89.051406</td>\n",
       "      <td>0.042561</td>\n",
       "      <td>0.053677</td>\n",
       "      <td>1.370314</td>\n",
       "      <td>-37.246261</td>\n",
       "      <td>0.999998</td>\n",
       "      <td>9.075283</td>\n",
       "      <td>1.372229</td>\n",
       "      <td>-45.169482</td>\n",
       "      <td>0.999979</td>\n",
       "      <td>9.176037</td>\n",
       "      <td>P</td>\n",
       "    </tr>\n",
       "    <tr>\n",
       "      <th>DRW091810471</th>\n",
       "      <td>0.348259</td>\n",
       "      <td>0.000509</td>\n",
       "      <td>129.046143</td>\n",
       "      <td>0.041847</td>\n",
       "      <td>0.052308</td>\n",
       "      <td>0.338558</td>\n",
       "      <td>0.000449</td>\n",
       "      <td>86.579810</td>\n",
       "      <td>0.041813</td>\n",
       "      <td>0.041948</td>\n",
       "      <td>1.374144</td>\n",
       "      <td>-28.468581</td>\n",
       "      <td>0.999986</td>\n",
       "      <td>9.075158</td>\n",
       "      <td>1.370026</td>\n",
       "      <td>-40.577860</td>\n",
       "      <td>0.999983</td>\n",
       "      <td>9.174968</td>\n",
       "      <td>P</td>\n",
       "    </tr>\n",
       "    <tr>\n",
       "      <th>DRW391710071</th>\n",
       "      <td>0.407983</td>\n",
       "      <td>0.000620</td>\n",
       "      <td>53.861514</td>\n",
       "      <td>0.041439</td>\n",
       "      <td>0.031839</td>\n",
       "      <td>0.447917</td>\n",
       "      <td>0.001068</td>\n",
       "      <td>72.697784</td>\n",
       "      <td>0.041715</td>\n",
       "      <td>0.033923</td>\n",
       "      <td>1.335473</td>\n",
       "      <td>-38.879725</td>\n",
       "      <td>0.999897</td>\n",
       "      <td>9.076344</td>\n",
       "      <td>1.377100</td>\n",
       "      <td>-38.177445</td>\n",
       "      <td>0.999997</td>\n",
       "      <td>9.179953</td>\n",
       "      <td>P</td>\n",
       "    </tr>\n",
       "    <tr>\n",
       "      <th>DRW391700001</th>\n",
       "      <td>0.386216</td>\n",
       "      <td>0.000631</td>\n",
       "      <td>76.627232</td>\n",
       "      <td>0.041407</td>\n",
       "      <td>0.034478</td>\n",
       "      <td>0.384400</td>\n",
       "      <td>0.000903</td>\n",
       "      <td>79.220271</td>\n",
       "      <td>0.042135</td>\n",
       "      <td>0.032906</td>\n",
       "      <td>1.331818</td>\n",
       "      <td>-32.805212</td>\n",
       "      <td>0.999993</td>\n",
       "      <td>9.075598</td>\n",
       "      <td>1.379523</td>\n",
       "      <td>-58.649253</td>\n",
       "      <td>0.999995</td>\n",
       "      <td>9.156949</td>\n",
       "      <td>P</td>\n",
       "    </tr>\n",
       "    <tr>\n",
       "      <th>DRW391710021</th>\n",
       "      <td>0.373776</td>\n",
       "      <td>0.000921</td>\n",
       "      <td>94.511528</td>\n",
       "      <td>0.041983</td>\n",
       "      <td>0.037544</td>\n",
       "      <td>0.451047</td>\n",
       "      <td>0.000969</td>\n",
       "      <td>81.454951</td>\n",
       "      <td>0.041807</td>\n",
       "      <td>0.015890</td>\n",
       "      <td>1.337583</td>\n",
       "      <td>-35.964199</td>\n",
       "      <td>0.999978</td>\n",
       "      <td>9.075733</td>\n",
       "      <td>1.358422</td>\n",
       "      <td>-40.033938</td>\n",
       "      <td>0.999999</td>\n",
       "      <td>9.178558</td>\n",
       "      <td>P</td>\n",
       "    </tr>\n",
       "  </tbody>\n",
       "</table>\n",
       "</div>"
      ],
      "text/plain": [
       "              A_Indep_Front  A_RollSpeed_Front  A_R2R2W_Front  KM_Front  \\\n",
       "SN                                                                        \n",
       "DRW091810461       0.390513           0.000601     128.379043  0.041950   \n",
       "DRW091810471       0.348259           0.000509     129.046143  0.041847   \n",
       "DRW391710071       0.407983           0.000620      53.861514  0.041439   \n",
       "DRW391700001       0.386216           0.000631      76.627232  0.041407   \n",
       "DRW391710021       0.373776           0.000921      94.511528  0.041983   \n",
       "\n",
       "              KM_DEV_Front  A_Indep_Rear  A_RollSpeed_Rear  A_R2R2W_Rear  \\\n",
       "SN                                                                         \n",
       "DRW091810461      0.037106      0.468861          0.000664     89.051406   \n",
       "DRW091810471      0.052308      0.338558          0.000449     86.579810   \n",
       "DRW391710071      0.031839      0.447917          0.001068     72.697784   \n",
       "DRW391700001      0.034478      0.384400          0.000903     79.220271   \n",
       "DRW391710021      0.037544      0.451047          0.000969     81.454951   \n",
       "\n",
       "               KM_Rear  KM_DEV_Rear  TR_PWM_SLOP_FRONT  TR_PWM_OFFSET_FRONT  \\\n",
       "SN                                                                            \n",
       "DRW091810461  0.042561     0.053677           1.370314           -37.246261   \n",
       "DRW091810471  0.041813     0.041948           1.374144           -28.468581   \n",
       "DRW391710071  0.041715     0.033923           1.335473           -38.879725   \n",
       "DRW391700001  0.042135     0.032906           1.331818           -32.805212   \n",
       "DRW391710021  0.041807     0.015890           1.337583           -35.964199   \n",
       "\n",
       "              R2_Front  TR_AccuENC_RATIO_FRONT  TR_PWM_SLOP_REAR  \\\n",
       "SN                                                                 \n",
       "DRW091810461  0.999998                9.075283          1.372229   \n",
       "DRW091810471  0.999986                9.075158          1.370026   \n",
       "DRW391710071  0.999897                9.076344          1.377100   \n",
       "DRW391700001  0.999993                9.075598          1.379523   \n",
       "DRW391710021  0.999978                9.075733          1.358422   \n",
       "\n",
       "              TR_PWM_OFFSET_REAR   R2_Rear  TR_AccuENC_RATIO_REAR status  \n",
       "SN                                                                        \n",
       "DRW091810461          -45.169482  0.999979               9.176037      P  \n",
       "DRW091810471          -40.577860  0.999983               9.174968      P  \n",
       "DRW391710071          -38.177445  0.999997               9.179953      P  \n",
       "DRW391700001          -58.649253  0.999995               9.156949      P  \n",
       "DRW391710021          -40.033938  0.999999               9.178558      P  "
      ]
     },
     "execution_count": 4,
     "metadata": {},
     "output_type": "execute_result"
    }
   ],
   "source": [
    "df.head()"
   ]
  },
  {
   "cell_type": "markdown",
   "metadata": {},
   "source": [
    "### Separating train set into X and y"
   ]
  },
  {
   "cell_type": "code",
   "execution_count": 5,
   "metadata": {},
   "outputs": [],
   "source": [
    "X = df.drop('status', axis=1)\n",
    "y = df.status"
   ]
  },
  {
   "cell_type": "markdown",
   "metadata": {},
   "source": [
    "### Splitting into train and test"
   ]
  },
  {
   "cell_type": "code",
   "execution_count": 6,
   "metadata": {},
   "outputs": [],
   "source": [
    "X_train, X_test, y_train, y_test = train_test_split(X, y, test_size=0.2, random_state=42, stratify=y)"
   ]
  },
  {
   "cell_type": "markdown",
   "metadata": {},
   "source": [
    "### Running a grid search for parameter selection for a Random Forest Classifier model"
   ]
  },
  {
   "cell_type": "code",
   "execution_count": 8,
   "metadata": {},
   "outputs": [],
   "source": [
    "param_grid = {\n",
    "    'n_estimators': [10,50,100],\n",
    "    'max_features': ['auto', 'sqrt', 'log2'],\n",
    "    'max_depth': [3, 5, 10]\n",
    "}"
   ]
  },
  {
   "cell_type": "code",
   "execution_count": 9,
   "metadata": {},
   "outputs": [],
   "source": [
    "RFC = RandomForestClassifier(n_jobs=-1)"
   ]
  },
  {
   "cell_type": "code",
   "execution_count": 10,
   "metadata": {},
   "outputs": [],
   "source": [
    "GS = GridSearchCV(RFC, param_grid, cv=5, verbose = 3)"
   ]
  },
  {
   "cell_type": "code",
   "execution_count": 11,
   "metadata": {},
   "outputs": [
    {
     "name": "stdout",
     "output_type": "stream",
     "text": [
      "Fitting 5 folds for each of 27 candidates, totalling 135 fits\n",
      "[CV] max_depth=3, max_features=auto, n_estimators=10 .................\n"
     ]
    },
    {
     "name": "stderr",
     "output_type": "stream",
     "text": [
      "[Parallel(n_jobs=1)]: Using backend SequentialBackend with 1 concurrent workers.\n"
     ]
    },
    {
     "name": "stdout",
     "output_type": "stream",
     "text": [
      "[CV]  max_depth=3, max_features=auto, n_estimators=10, score=0.867, total=   1.6s\n",
      "[CV] max_depth=3, max_features=auto, n_estimators=10 .................\n"
     ]
    },
    {
     "name": "stderr",
     "output_type": "stream",
     "text": [
      "[Parallel(n_jobs=1)]: Done   1 out of   1 | elapsed:    1.6s remaining:    0.0s\n"
     ]
    },
    {
     "name": "stdout",
     "output_type": "stream",
     "text": [
      "[CV]  max_depth=3, max_features=auto, n_estimators=10, score=0.867, total=   1.6s\n",
      "[CV] max_depth=3, max_features=auto, n_estimators=10 .................\n"
     ]
    },
    {
     "name": "stderr",
     "output_type": "stream",
     "text": [
      "[Parallel(n_jobs=1)]: Done   2 out of   2 | elapsed:    3.2s remaining:    0.0s\n"
     ]
    },
    {
     "name": "stdout",
     "output_type": "stream",
     "text": [
      "[CV]  max_depth=3, max_features=auto, n_estimators=10, score=0.864, total=   1.6s\n",
      "[CV] max_depth=3, max_features=auto, n_estimators=10 .................\n",
      "[CV]  max_depth=3, max_features=auto, n_estimators=10, score=0.873, total=   1.5s\n",
      "[CV] max_depth=3, max_features=auto, n_estimators=10 .................\n",
      "[CV]  max_depth=3, max_features=auto, n_estimators=10, score=0.866, total=   1.6s\n",
      "[CV] max_depth=3, max_features=auto, n_estimators=50 .................\n",
      "[CV]  max_depth=3, max_features=auto, n_estimators=50, score=0.867, total=   1.6s\n",
      "[CV] max_depth=3, max_features=auto, n_estimators=50 .................\n",
      "[CV]  max_depth=3, max_features=auto, n_estimators=50, score=0.867, total=   1.6s\n",
      "[CV] max_depth=3, max_features=auto, n_estimators=50 .................\n",
      "[CV]  max_depth=3, max_features=auto, n_estimators=50, score=0.867, total=   1.6s\n",
      "[CV] max_depth=3, max_features=auto, n_estimators=50 .................\n",
      "[CV]  max_depth=3, max_features=auto, n_estimators=50, score=0.869, total=   1.6s\n",
      "[CV] max_depth=3, max_features=auto, n_estimators=50 .................\n",
      "[CV]  max_depth=3, max_features=auto, n_estimators=50, score=0.869, total=   1.7s\n",
      "[CV] max_depth=3, max_features=auto, n_estimators=100 ................\n",
      "[CV]  max_depth=3, max_features=auto, n_estimators=100, score=0.867, total=   1.7s\n",
      "[CV] max_depth=3, max_features=auto, n_estimators=100 ................\n",
      "[CV]  max_depth=3, max_features=auto, n_estimators=100, score=0.867, total=   1.7s\n",
      "[CV] max_depth=3, max_features=auto, n_estimators=100 ................\n",
      "[CV]  max_depth=3, max_features=auto, n_estimators=100, score=0.867, total=   1.7s\n",
      "[CV] max_depth=3, max_features=auto, n_estimators=100 ................\n",
      "[CV]  max_depth=3, max_features=auto, n_estimators=100, score=0.869, total=   1.7s\n",
      "[CV] max_depth=3, max_features=auto, n_estimators=100 ................\n",
      "[CV]  max_depth=3, max_features=auto, n_estimators=100, score=0.869, total=   1.7s\n",
      "[CV] max_depth=3, max_features=sqrt, n_estimators=10 .................\n",
      "[CV]  max_depth=3, max_features=sqrt, n_estimators=10, score=0.867, total=   1.6s\n",
      "[CV] max_depth=3, max_features=sqrt, n_estimators=10 .................\n",
      "[CV]  max_depth=3, max_features=sqrt, n_estimators=10, score=0.867, total=   1.6s\n",
      "[CV] max_depth=3, max_features=sqrt, n_estimators=10 .................\n",
      "[CV]  max_depth=3, max_features=sqrt, n_estimators=10, score=0.864, total=   1.9s\n",
      "[CV] max_depth=3, max_features=sqrt, n_estimators=10 .................\n",
      "[CV]  max_depth=3, max_features=sqrt, n_estimators=10, score=0.873, total=   1.8s\n",
      "[CV] max_depth=3, max_features=sqrt, n_estimators=10 .................\n",
      "[CV]  max_depth=3, max_features=sqrt, n_estimators=10, score=0.866, total=   1.5s\n",
      "[CV] max_depth=3, max_features=sqrt, n_estimators=50 .................\n",
      "[CV]  max_depth=3, max_features=sqrt, n_estimators=50, score=0.867, total=   1.6s\n",
      "[CV] max_depth=3, max_features=sqrt, n_estimators=50 .................\n",
      "[CV]  max_depth=3, max_features=sqrt, n_estimators=50, score=0.867, total=   1.6s\n",
      "[CV] max_depth=3, max_features=sqrt, n_estimators=50 .................\n",
      "[CV]  max_depth=3, max_features=sqrt, n_estimators=50, score=0.867, total=   1.6s\n",
      "[CV] max_depth=3, max_features=sqrt, n_estimators=50 .................\n",
      "[CV]  max_depth=3, max_features=sqrt, n_estimators=50, score=0.869, total=   1.6s\n",
      "[CV] max_depth=3, max_features=sqrt, n_estimators=50 .................\n",
      "[CV]  max_depth=3, max_features=sqrt, n_estimators=50, score=0.869, total=   1.6s\n",
      "[CV] max_depth=3, max_features=sqrt, n_estimators=100 ................\n",
      "[CV]  max_depth=3, max_features=sqrt, n_estimators=100, score=0.867, total=   1.7s\n",
      "[CV] max_depth=3, max_features=sqrt, n_estimators=100 ................\n",
      "[CV]  max_depth=3, max_features=sqrt, n_estimators=100, score=0.867, total=   1.7s\n",
      "[CV] max_depth=3, max_features=sqrt, n_estimators=100 ................\n",
      "[CV]  max_depth=3, max_features=sqrt, n_estimators=100, score=0.867, total=   1.7s\n",
      "[CV] max_depth=3, max_features=sqrt, n_estimators=100 ................\n",
      "[CV]  max_depth=3, max_features=sqrt, n_estimators=100, score=0.871, total=   1.7s\n",
      "[CV] max_depth=3, max_features=sqrt, n_estimators=100 ................\n",
      "[CV]  max_depth=3, max_features=sqrt, n_estimators=100, score=0.869, total=   1.7s\n",
      "[CV] max_depth=3, max_features=log2, n_estimators=10 .................\n",
      "[CV]  max_depth=3, max_features=log2, n_estimators=10, score=0.867, total=   1.6s\n",
      "[CV] max_depth=3, max_features=log2, n_estimators=10 .................\n",
      "[CV]  max_depth=3, max_features=log2, n_estimators=10, score=0.867, total=   1.6s\n",
      "[CV] max_depth=3, max_features=log2, n_estimators=10 .................\n",
      "[CV]  max_depth=3, max_features=log2, n_estimators=10, score=0.867, total=   1.5s\n",
      "[CV] max_depth=3, max_features=log2, n_estimators=10 .................\n",
      "[CV]  max_depth=3, max_features=log2, n_estimators=10, score=0.871, total=   1.6s\n",
      "[CV] max_depth=3, max_features=log2, n_estimators=10 .................\n",
      "[CV]  max_depth=3, max_features=log2, n_estimators=10, score=0.869, total=   1.6s\n",
      "[CV] max_depth=3, max_features=log2, n_estimators=50 .................\n",
      "[CV]  max_depth=3, max_features=log2, n_estimators=50, score=0.867, total=   1.6s\n",
      "[CV] max_depth=3, max_features=log2, n_estimators=50 .................\n",
      "[CV]  max_depth=3, max_features=log2, n_estimators=50, score=0.867, total=   1.6s\n",
      "[CV] max_depth=3, max_features=log2, n_estimators=50 .................\n",
      "[CV]  max_depth=3, max_features=log2, n_estimators=50, score=0.867, total=   1.6s\n",
      "[CV] max_depth=3, max_features=log2, n_estimators=50 .................\n",
      "[CV]  max_depth=3, max_features=log2, n_estimators=50, score=0.869, total=   1.6s\n",
      "[CV] max_depth=3, max_features=log2, n_estimators=50 .................\n",
      "[CV]  max_depth=3, max_features=log2, n_estimators=50, score=0.869, total=   1.6s\n",
      "[CV] max_depth=3, max_features=log2, n_estimators=100 ................\n",
      "[CV]  max_depth=3, max_features=log2, n_estimators=100, score=0.867, total=   1.7s\n",
      "[CV] max_depth=3, max_features=log2, n_estimators=100 ................\n",
      "[CV]  max_depth=3, max_features=log2, n_estimators=100, score=0.867, total=   1.7s\n",
      "[CV] max_depth=3, max_features=log2, n_estimators=100 ................\n",
      "[CV]  max_depth=3, max_features=log2, n_estimators=100, score=0.867, total=   1.7s\n",
      "[CV] max_depth=3, max_features=log2, n_estimators=100 ................\n",
      "[CV]  max_depth=3, max_features=log2, n_estimators=100, score=0.869, total=   1.7s\n",
      "[CV] max_depth=3, max_features=log2, n_estimators=100 ................\n",
      "[CV]  max_depth=3, max_features=log2, n_estimators=100, score=0.869, total=   1.7s\n",
      "[CV] max_depth=5, max_features=auto, n_estimators=10 .................\n",
      "[CV]  max_depth=5, max_features=auto, n_estimators=10, score=0.871, total=   1.6s\n",
      "[CV] max_depth=5, max_features=auto, n_estimators=10 .................\n",
      "[CV]  max_depth=5, max_features=auto, n_estimators=10, score=0.867, total=   1.6s\n",
      "[CV] max_depth=5, max_features=auto, n_estimators=10 .................\n",
      "[CV]  max_depth=5, max_features=auto, n_estimators=10, score=0.867, total=   1.7s\n",
      "[CV] max_depth=5, max_features=auto, n_estimators=10 .................\n",
      "[CV]  max_depth=5, max_features=auto, n_estimators=10, score=0.864, total=   1.6s\n",
      "[CV] max_depth=5, max_features=auto, n_estimators=10 .................\n",
      "[CV]  max_depth=5, max_features=auto, n_estimators=10, score=0.864, total=   1.6s\n",
      "[CV] max_depth=5, max_features=auto, n_estimators=50 .................\n",
      "[CV]  max_depth=5, max_features=auto, n_estimators=50, score=0.871, total=   1.7s\n",
      "[CV] max_depth=5, max_features=auto, n_estimators=50 .................\n",
      "[CV]  max_depth=5, max_features=auto, n_estimators=50, score=0.864, total=   1.6s\n",
      "[CV] max_depth=5, max_features=auto, n_estimators=50 .................\n",
      "[CV]  max_depth=5, max_features=auto, n_estimators=50, score=0.867, total=   1.7s\n",
      "[CV] max_depth=5, max_features=auto, n_estimators=50 .................\n",
      "[CV]  max_depth=5, max_features=auto, n_estimators=50, score=0.869, total=   1.6s\n",
      "[CV] max_depth=5, max_features=auto, n_estimators=50 .................\n",
      "[CV]  max_depth=5, max_features=auto, n_estimators=50, score=0.869, total=   1.6s\n",
      "[CV] max_depth=5, max_features=auto, n_estimators=100 ................\n",
      "[CV]  max_depth=5, max_features=auto, n_estimators=100, score=0.867, total=   1.7s\n",
      "[CV] max_depth=5, max_features=auto, n_estimators=100 ................\n"
     ]
    },
    {
     "name": "stdout",
     "output_type": "stream",
     "text": [
      "[CV]  max_depth=5, max_features=auto, n_estimators=100, score=0.864, total=   1.7s\n",
      "[CV] max_depth=5, max_features=auto, n_estimators=100 ................\n",
      "[CV]  max_depth=5, max_features=auto, n_estimators=100, score=0.869, total=   1.7s\n",
      "[CV] max_depth=5, max_features=auto, n_estimators=100 ................\n",
      "[CV]  max_depth=5, max_features=auto, n_estimators=100, score=0.876, total=   1.7s\n",
      "[CV] max_depth=5, max_features=auto, n_estimators=100 ................\n",
      "[CV]  max_depth=5, max_features=auto, n_estimators=100, score=0.869, total=   1.7s\n",
      "[CV] max_depth=5, max_features=sqrt, n_estimators=10 .................\n",
      "[CV]  max_depth=5, max_features=sqrt, n_estimators=10, score=0.869, total=   1.5s\n",
      "[CV] max_depth=5, max_features=sqrt, n_estimators=10 .................\n",
      "[CV]  max_depth=5, max_features=sqrt, n_estimators=10, score=0.859, total=   1.6s\n",
      "[CV] max_depth=5, max_features=sqrt, n_estimators=10 .................\n",
      "[CV]  max_depth=5, max_features=sqrt, n_estimators=10, score=0.859, total=   1.6s\n",
      "[CV] max_depth=5, max_features=sqrt, n_estimators=10 .................\n",
      "[CV]  max_depth=5, max_features=sqrt, n_estimators=10, score=0.862, total=   1.5s\n",
      "[CV] max_depth=5, max_features=sqrt, n_estimators=10 .................\n",
      "[CV]  max_depth=5, max_features=sqrt, n_estimators=10, score=0.866, total=   1.5s\n",
      "[CV] max_depth=5, max_features=sqrt, n_estimators=50 .................\n",
      "[CV]  max_depth=5, max_features=sqrt, n_estimators=50, score=0.871, total=   1.6s\n",
      "[CV] max_depth=5, max_features=sqrt, n_estimators=50 .................\n",
      "[CV]  max_depth=5, max_features=sqrt, n_estimators=50, score=0.864, total=   1.6s\n",
      "[CV] max_depth=5, max_features=sqrt, n_estimators=50 .................\n",
      "[CV]  max_depth=5, max_features=sqrt, n_estimators=50, score=0.862, total=   1.6s\n",
      "[CV] max_depth=5, max_features=sqrt, n_estimators=50 .................\n",
      "[CV]  max_depth=5, max_features=sqrt, n_estimators=50, score=0.876, total=   1.7s\n",
      "[CV] max_depth=5, max_features=sqrt, n_estimators=50 .................\n",
      "[CV]  max_depth=5, max_features=sqrt, n_estimators=50, score=0.869, total=   2.1s\n",
      "[CV] max_depth=5, max_features=sqrt, n_estimators=100 ................\n",
      "[CV]  max_depth=5, max_features=sqrt, n_estimators=100, score=0.867, total=   2.2s\n",
      "[CV] max_depth=5, max_features=sqrt, n_estimators=100 ................\n",
      "[CV]  max_depth=5, max_features=sqrt, n_estimators=100, score=0.867, total=   2.3s\n",
      "[CV] max_depth=5, max_features=sqrt, n_estimators=100 ................\n",
      "[CV]  max_depth=5, max_features=sqrt, n_estimators=100, score=0.869, total=   1.7s\n",
      "[CV] max_depth=5, max_features=sqrt, n_estimators=100 ................\n",
      "[CV]  max_depth=5, max_features=sqrt, n_estimators=100, score=0.873, total=   2.0s\n",
      "[CV] max_depth=5, max_features=sqrt, n_estimators=100 ................\n",
      "[CV]  max_depth=5, max_features=sqrt, n_estimators=100, score=0.869, total=   1.7s\n",
      "[CV] max_depth=5, max_features=log2, n_estimators=10 .................\n",
      "[CV]  max_depth=5, max_features=log2, n_estimators=10, score=0.876, total=   1.8s\n",
      "[CV] max_depth=5, max_features=log2, n_estimators=10 .................\n",
      "[CV]  max_depth=5, max_features=log2, n_estimators=10, score=0.869, total=   1.6s\n",
      "[CV] max_depth=5, max_features=log2, n_estimators=10 .................\n",
      "[CV]  max_depth=5, max_features=log2, n_estimators=10, score=0.864, total=   1.6s\n",
      "[CV] max_depth=5, max_features=log2, n_estimators=10 .................\n",
      "[CV]  max_depth=5, max_features=log2, n_estimators=10, score=0.869, total=   1.6s\n",
      "[CV] max_depth=5, max_features=log2, n_estimators=10 .................\n",
      "[CV]  max_depth=5, max_features=log2, n_estimators=10, score=0.869, total=   1.6s\n",
      "[CV] max_depth=5, max_features=log2, n_estimators=50 .................\n",
      "[CV]  max_depth=5, max_features=log2, n_estimators=50, score=0.874, total=   1.6s\n",
      "[CV] max_depth=5, max_features=log2, n_estimators=50 .................\n",
      "[CV]  max_depth=5, max_features=log2, n_estimators=50, score=0.864, total=   1.6s\n",
      "[CV] max_depth=5, max_features=log2, n_estimators=50 .................\n",
      "[CV]  max_depth=5, max_features=log2, n_estimators=50, score=0.867, total=   1.6s\n",
      "[CV] max_depth=5, max_features=log2, n_estimators=50 .................\n",
      "[CV]  max_depth=5, max_features=log2, n_estimators=50, score=0.873, total=   1.6s\n",
      "[CV] max_depth=5, max_features=log2, n_estimators=50 .................\n",
      "[CV]  max_depth=5, max_features=log2, n_estimators=50, score=0.866, total=   1.6s\n",
      "[CV] max_depth=5, max_features=log2, n_estimators=100 ................\n",
      "[CV]  max_depth=5, max_features=log2, n_estimators=100, score=0.869, total=   1.7s\n",
      "[CV] max_depth=5, max_features=log2, n_estimators=100 ................\n",
      "[CV]  max_depth=5, max_features=log2, n_estimators=100, score=0.864, total=   1.7s\n",
      "[CV] max_depth=5, max_features=log2, n_estimators=100 ................\n",
      "[CV]  max_depth=5, max_features=log2, n_estimators=100, score=0.869, total=   1.9s\n",
      "[CV] max_depth=5, max_features=log2, n_estimators=100 ................\n",
      "[CV]  max_depth=5, max_features=log2, n_estimators=100, score=0.871, total=   1.8s\n",
      "[CV] max_depth=5, max_features=log2, n_estimators=100 ................\n",
      "[CV]  max_depth=5, max_features=log2, n_estimators=100, score=0.869, total=   1.7s\n",
      "[CV] max_depth=10, max_features=auto, n_estimators=10 ................\n",
      "[CV]  max_depth=10, max_features=auto, n_estimators=10, score=0.857, total=   1.6s\n",
      "[CV] max_depth=10, max_features=auto, n_estimators=10 ................\n",
      "[CV]  max_depth=10, max_features=auto, n_estimators=10, score=0.869, total=   1.6s\n",
      "[CV] max_depth=10, max_features=auto, n_estimators=10 ................\n",
      "[CV]  max_depth=10, max_features=auto, n_estimators=10, score=0.855, total=   1.6s\n",
      "[CV] max_depth=10, max_features=auto, n_estimators=10 ................\n",
      "[CV]  max_depth=10, max_features=auto, n_estimators=10, score=0.859, total=   1.6s\n",
      "[CV] max_depth=10, max_features=auto, n_estimators=10 ................\n",
      "[CV]  max_depth=10, max_features=auto, n_estimators=10, score=0.857, total=   2.5s\n",
      "[CV] max_depth=10, max_features=auto, n_estimators=50 ................\n",
      "[CV]  max_depth=10, max_features=auto, n_estimators=50, score=0.874, total=   2.2s\n",
      "[CV] max_depth=10, max_features=auto, n_estimators=50 ................\n",
      "[CV]  max_depth=10, max_features=auto, n_estimators=50, score=0.867, total=   1.8s\n",
      "[CV] max_depth=10, max_features=auto, n_estimators=50 ................\n",
      "[CV]  max_depth=10, max_features=auto, n_estimators=50, score=0.864, total=   1.8s\n",
      "[CV] max_depth=10, max_features=auto, n_estimators=50 ................\n",
      "[CV]  max_depth=10, max_features=auto, n_estimators=50, score=0.864, total=   1.9s\n",
      "[CV] max_depth=10, max_features=auto, n_estimators=50 ................\n",
      "[CV]  max_depth=10, max_features=auto, n_estimators=50, score=0.859, total=   1.7s\n",
      "[CV] max_depth=10, max_features=auto, n_estimators=100 ...............\n",
      "[CV]  max_depth=10, max_features=auto, n_estimators=100, score=0.867, total=   1.7s\n",
      "[CV] max_depth=10, max_features=auto, n_estimators=100 ...............\n",
      "[CV]  max_depth=10, max_features=auto, n_estimators=100, score=0.867, total=   2.5s\n",
      "[CV] max_depth=10, max_features=auto, n_estimators=100 ...............\n",
      "[CV]  max_depth=10, max_features=auto, n_estimators=100, score=0.859, total=   1.9s\n",
      "[CV] max_depth=10, max_features=auto, n_estimators=100 ...............\n",
      "[CV]  max_depth=10, max_features=auto, n_estimators=100, score=0.871, total=   1.8s\n",
      "[CV] max_depth=10, max_features=auto, n_estimators=100 ...............\n",
      "[CV]  max_depth=10, max_features=auto, n_estimators=100, score=0.862, total=   2.5s\n",
      "[CV] max_depth=10, max_features=sqrt, n_estimators=10 ................\n",
      "[CV]  max_depth=10, max_features=sqrt, n_estimators=10, score=0.867, total=   1.9s\n",
      "[CV] max_depth=10, max_features=sqrt, n_estimators=10 ................\n",
      "[CV]  max_depth=10, max_features=sqrt, n_estimators=10, score=0.864, total=   2.2s\n",
      "[CV] max_depth=10, max_features=sqrt, n_estimators=10 ................\n",
      "[CV]  max_depth=10, max_features=sqrt, n_estimators=10, score=0.859, total=   2.2s\n",
      "[CV] max_depth=10, max_features=sqrt, n_estimators=10 ................\n",
      "[CV]  max_depth=10, max_features=sqrt, n_estimators=10, score=0.859, total=   1.8s\n",
      "[CV] max_depth=10, max_features=sqrt, n_estimators=10 ................\n",
      "[CV]  max_depth=10, max_features=sqrt, n_estimators=10, score=0.864, total=   1.9s\n",
      "[CV] max_depth=10, max_features=sqrt, n_estimators=50 ................\n"
     ]
    },
    {
     "name": "stdout",
     "output_type": "stream",
     "text": [
      "[CV]  max_depth=10, max_features=sqrt, n_estimators=50, score=0.879, total=   2.0s\n",
      "[CV] max_depth=10, max_features=sqrt, n_estimators=50 ................\n",
      "[CV]  max_depth=10, max_features=sqrt, n_estimators=50, score=0.864, total=   2.4s\n",
      "[CV] max_depth=10, max_features=sqrt, n_estimators=50 ................\n",
      "[CV]  max_depth=10, max_features=sqrt, n_estimators=50, score=0.864, total=   1.9s\n",
      "[CV] max_depth=10, max_features=sqrt, n_estimators=50 ................\n",
      "[CV]  max_depth=10, max_features=sqrt, n_estimators=50, score=0.869, total=   1.8s\n",
      "[CV] max_depth=10, max_features=sqrt, n_estimators=50 ................\n",
      "[CV]  max_depth=10, max_features=sqrt, n_estimators=50, score=0.866, total=   1.7s\n",
      "[CV] max_depth=10, max_features=sqrt, n_estimators=100 ...............\n",
      "[CV]  max_depth=10, max_features=sqrt, n_estimators=100, score=0.869, total=   2.1s\n",
      "[CV] max_depth=10, max_features=sqrt, n_estimators=100 ...............\n",
      "[CV]  max_depth=10, max_features=sqrt, n_estimators=100, score=0.871, total=   1.9s\n",
      "[CV] max_depth=10, max_features=sqrt, n_estimators=100 ...............\n",
      "[CV]  max_depth=10, max_features=sqrt, n_estimators=100, score=0.862, total=   1.9s\n",
      "[CV] max_depth=10, max_features=sqrt, n_estimators=100 ...............\n",
      "[CV]  max_depth=10, max_features=sqrt, n_estimators=100, score=0.878, total=   1.8s\n",
      "[CV] max_depth=10, max_features=sqrt, n_estimators=100 ...............\n",
      "[CV]  max_depth=10, max_features=sqrt, n_estimators=100, score=0.864, total=   1.8s\n",
      "[CV] max_depth=10, max_features=log2, n_estimators=10 ................\n",
      "[CV]  max_depth=10, max_features=log2, n_estimators=10, score=0.867, total=   1.7s\n",
      "[CV] max_depth=10, max_features=log2, n_estimators=10 ................\n",
      "[CV]  max_depth=10, max_features=log2, n_estimators=10, score=0.874, total=   2.0s\n",
      "[CV] max_depth=10, max_features=log2, n_estimators=10 ................\n",
      "[CV]  max_depth=10, max_features=log2, n_estimators=10, score=0.855, total=   1.9s\n",
      "[CV] max_depth=10, max_features=log2, n_estimators=10 ................\n",
      "[CV]  max_depth=10, max_features=log2, n_estimators=10, score=0.862, total=   1.6s\n",
      "[CV] max_depth=10, max_features=log2, n_estimators=10 ................\n",
      "[CV]  max_depth=10, max_features=log2, n_estimators=10, score=0.859, total=   1.8s\n",
      "[CV] max_depth=10, max_features=log2, n_estimators=50 ................\n",
      "[CV]  max_depth=10, max_features=log2, n_estimators=50, score=0.876, total=   1.7s\n",
      "[CV] max_depth=10, max_features=log2, n_estimators=50 ................\n",
      "[CV]  max_depth=10, max_features=log2, n_estimators=50, score=0.867, total=   1.7s\n",
      "[CV] max_depth=10, max_features=log2, n_estimators=50 ................\n",
      "[CV]  max_depth=10, max_features=log2, n_estimators=50, score=0.864, total=   1.7s\n",
      "[CV] max_depth=10, max_features=log2, n_estimators=50 ................\n",
      "[CV]  max_depth=10, max_features=log2, n_estimators=50, score=0.871, total=   2.3s\n",
      "[CV] max_depth=10, max_features=log2, n_estimators=50 ................\n",
      "[CV]  max_depth=10, max_features=log2, n_estimators=50, score=0.859, total=   1.8s\n",
      "[CV] max_depth=10, max_features=log2, n_estimators=100 ...............\n",
      "[CV]  max_depth=10, max_features=log2, n_estimators=100, score=0.874, total=   1.9s\n",
      "[CV] max_depth=10, max_features=log2, n_estimators=100 ...............\n",
      "[CV]  max_depth=10, max_features=log2, n_estimators=100, score=0.867, total=   2.0s\n",
      "[CV] max_depth=10, max_features=log2, n_estimators=100 ...............\n",
      "[CV]  max_depth=10, max_features=log2, n_estimators=100, score=0.859, total=   2.2s\n",
      "[CV] max_depth=10, max_features=log2, n_estimators=100 ...............\n",
      "[CV]  max_depth=10, max_features=log2, n_estimators=100, score=0.876, total=   2.6s\n",
      "[CV] max_depth=10, max_features=log2, n_estimators=100 ...............\n",
      "[CV]  max_depth=10, max_features=log2, n_estimators=100, score=0.864, total=   2.0s\n"
     ]
    },
    {
     "name": "stderr",
     "output_type": "stream",
     "text": [
      "[Parallel(n_jobs=1)]: Done 135 out of 135 | elapsed:  3.9min finished\n"
     ]
    },
    {
     "data": {
      "text/plain": [
       "GridSearchCV(cv=5, error_score='raise-deprecating',\n",
       "             estimator=RandomForestClassifier(bootstrap=True, class_weight=None,\n",
       "                                              criterion='gini', max_depth=None,\n",
       "                                              max_features='auto',\n",
       "                                              max_leaf_nodes=None,\n",
       "                                              min_impurity_decrease=0.0,\n",
       "                                              min_impurity_split=None,\n",
       "                                              min_samples_leaf=1,\n",
       "                                              min_samples_split=2,\n",
       "                                              min_weight_fraction_leaf=0.0,\n",
       "                                              n_estimators='warn', n_jobs=-1,\n",
       "                                              oob_score=False,\n",
       "                                              random_state=None, verbose=0,\n",
       "                                              warm_start=False),\n",
       "             iid='warn', n_jobs=None,\n",
       "             param_grid={'max_depth': [3, 5, 10],\n",
       "                         'max_features': ['auto', 'sqrt', 'log2'],\n",
       "                         'n_estimators': [10, 50, 100]},\n",
       "             pre_dispatch='2*n_jobs', refit=True, return_train_score=False,\n",
       "             scoring=None, verbose=3)"
      ]
     },
     "execution_count": 11,
     "metadata": {},
     "output_type": "execute_result"
    }
   ],
   "source": [
    "GS.fit(X_train, y_train)"
   ]
  },
  {
   "cell_type": "code",
   "execution_count": 12,
   "metadata": {},
   "outputs": [
    {
     "data": {
      "text/plain": [
       "{'max_depth': 5, 'max_features': 'log2', 'n_estimators': 10}"
      ]
     },
     "execution_count": 12,
     "metadata": {},
     "output_type": "execute_result"
    }
   ],
   "source": [
    "GS.best_params_"
   ]
  },
  {
   "cell_type": "code",
   "execution_count": 13,
   "metadata": {},
   "outputs": [],
   "source": [
    "RFC = RandomForestClassifier(max_depth = 5, max_features='log2', n_estimators=10)"
   ]
  },
  {
   "cell_type": "code",
   "execution_count": 14,
   "metadata": {},
   "outputs": [
    {
     "data": {
      "text/plain": [
       "RandomForestClassifier(bootstrap=True, class_weight=None, criterion='gini',\n",
       "                       max_depth=5, max_features='log2', max_leaf_nodes=None,\n",
       "                       min_impurity_decrease=0.0, min_impurity_split=None,\n",
       "                       min_samples_leaf=1, min_samples_split=2,\n",
       "                       min_weight_fraction_leaf=0.0, n_estimators=10,\n",
       "                       n_jobs=None, oob_score=False, random_state=None,\n",
       "                       verbose=0, warm_start=False)"
      ]
     },
     "execution_count": 14,
     "metadata": {},
     "output_type": "execute_result"
    }
   ],
   "source": [
    "RFC.fit(X_train, y_train)"
   ]
  },
  {
   "cell_type": "code",
   "execution_count": 19,
   "metadata": {},
   "outputs": [],
   "source": [
    "#Prediction of the test dataset:\n",
    "y_train_pred = RFC.predict(X_train)\n",
    "y_pred = RFC.predict(X_test)"
   ]
  },
  {
   "cell_type": "code",
   "execution_count": 22,
   "metadata": {},
   "outputs": [
    {
     "name": "stdout",
     "output_type": "stream",
     "text": [
      "TRAIN MODEL METRICS:\n",
      "The F1 score is: 0.8430200255883173\n",
      "The accuracy is: 0.8833177132146204\n",
      "Confusion matrix:\n"
     ]
    },
    {
     "data": {
      "text/plain": [
       "array([[  37,  246],\n",
       "       [   3, 1848]])"
      ]
     },
     "execution_count": 22,
     "metadata": {},
     "output_type": "execute_result"
    }
   ],
   "source": [
    "#We check scores with train:\n",
    "f1 = f1_score(y_train, y_train_pred, labels=None, pos_label=1, average='weighted')\n",
    "accuracy = accuracy_score(y_train, y_train_pred)\n",
    "conf = confusion_matrix(y_train, y_train_pred)\n",
    "\n",
    "print ('TRAIN MODEL METRICS:')\n",
    "print('The F1 score is: ' + str(f1))\n",
    "print('The accuracy is: ' + str(accuracy))\n",
    "print('Confusion matrix:')\n",
    "conf"
   ]
  },
  {
   "cell_type": "code",
   "execution_count": 23,
   "metadata": {},
   "outputs": [
    {
     "name": "stdout",
     "output_type": "stream",
     "text": [
      "TEST MODEL METRICS:\n",
      "The F1 score is: 0.828499595201126\n",
      "The accuracy is: 0.8745318352059925\n",
      "Confusion matrix:\n"
     ]
    },
    {
     "data": {
      "text/plain": [
       "array([[  6,  65],\n",
       "       [  2, 461]])"
      ]
     },
     "execution_count": 23,
     "metadata": {},
     "output_type": "execute_result"
    }
   ],
   "source": [
    "#We check scores with test:\n",
    "f1 = f1_score(y_test, y_pred, labels=None, pos_label=1, average='weighted')\n",
    "accuracy = accuracy_score(y_test, y_pred)\n",
    "conf = confusion_matrix(y_test, y_pred)\n",
    "\n",
    "print ('TEST MODEL METRICS:')\n",
    "print('The F1 score is: ' + str(f1))\n",
    "print('The accuracy is: ' + str(accuracy))\n",
    "print('Confusion matrix:')\n",
    "conf"
   ]
  },
  {
   "cell_type": "code",
   "execution_count": 26,
   "metadata": {
    "scrolled": false
   },
   "outputs": [
    {
     "data": {
      "text/plain": [
       "P    463\n",
       "F     71\n",
       "Name: status, dtype: int64"
      ]
     },
     "execution_count": 26,
     "metadata": {},
     "output_type": "execute_result"
    }
   ],
   "source": [
    "y_test.value_counts()"
   ]
  },
  {
   "cell_type": "code",
   "execution_count": 27,
   "metadata": {},
   "outputs": [
    {
     "name": "stdout",
     "output_type": "stream",
     "text": [
      "Collecting imbalanced-learn\n",
      "  Downloading https://files.pythonhosted.org/packages/e6/62/08c14224a7e242df2cef7b312d2ef821c3931ec9b015ff93bb52ec8a10a3/imbalanced_learn-0.5.0-py3-none-any.whl (173kB)\n",
      "\u001b[K    100% |████████████████████████████████| 174kB 533kB/s ta 0:00:01\n",
      "\u001b[?25hCollecting numpy>=1.11 (from imbalanced-learn)\n",
      "  Downloading https://files.pythonhosted.org/packages/d2/ab/43e678759326f728de861edbef34b8e2ad1b1490505f20e0d1f0716c3bf4/numpy-1.17.4-cp36-cp36m-manylinux1_x86_64.whl (20.0MB)\n",
      "\u001b[K    100% |████████████████████████████████| 20.0MB 87kB/s eta 0:00:011\n",
      "\u001b[?25hCollecting scikit-learn>=0.21 (from imbalanced-learn)\n",
      "  Using cached https://files.pythonhosted.org/packages/a0/c5/d2238762d780dde84a20b8c761f563fe882b88c5a5fb03c056547c442a19/scikit_learn-0.21.3-cp36-cp36m-manylinux1_x86_64.whl\n",
      "Collecting joblib>=0.11 (from imbalanced-learn)\n",
      "  Using cached https://files.pythonhosted.org/packages/8f/42/155696f85f344c066e17af287359c9786b436b1bf86029bb3411283274f3/joblib-0.14.0-py2.py3-none-any.whl\n",
      "Collecting scipy>=0.17 (from imbalanced-learn)\n",
      "  Downloading https://files.pythonhosted.org/packages/80/72/a26272b99220804038d8ac4aabe8383cfd969ec548695b0df258058ee919/scipy-1.3.2-cp36-cp36m-manylinux1_x86_64.whl (25.2MB)\n",
      "\u001b[K    100% |████████████████████████████████| 25.2MB 69kB/s eta 0:00:011\n",
      "\u001b[?25hInstalling collected packages: numpy, scipy, joblib, scikit-learn, imbalanced-learn\n",
      "Successfully installed imbalanced-learn-0.5.0 joblib-0.14.0 numpy-1.17.4 scikit-learn-0.21.3 scipy-1.3.2\n",
      "Note: you may need to restart the kernel to use updated packages.\n"
     ]
    }
   ],
   "source": [
    "pip install -U imbalanced-learn"
   ]
  },
  {
   "cell_type": "markdown",
   "metadata": {},
   "source": [
    "### Using KNN"
   ]
  },
  {
   "cell_type": "code",
   "execution_count": 246,
   "metadata": {},
   "outputs": [],
   "source": [
    "transformer = Normalizer().fit(X_train)\n",
    "norm_X = transformer.transform(X_train)"
   ]
  },
  {
   "cell_type": "code",
   "execution_count": 254,
   "metadata": {},
   "outputs": [],
   "source": [
    "transformer = Normalizer().fit(X_test)\n",
    "norm_X_test = transformer.transform(X_test)"
   ]
  },
  {
   "cell_type": "code",
   "execution_count": 247,
   "metadata": {},
   "outputs": [],
   "source": [
    "KNN = KNeighborsClassifier()"
   ]
  },
  {
   "cell_type": "code",
   "execution_count": 248,
   "metadata": {},
   "outputs": [],
   "source": [
    "param_grid = {'n_neighbors': [3,5,7,9,11],\n",
    "              'weights': ['uniform', 'distance'],\n",
    "              'leaf_size': [30, 45, 60, 75]}"
   ]
  },
  {
   "cell_type": "code",
   "execution_count": 249,
   "metadata": {},
   "outputs": [],
   "source": [
    "GS = GridSearchCV(KNN, param_grid, cv=5, verbose=3)"
   ]
  },
  {
   "cell_type": "code",
   "execution_count": 250,
   "metadata": {},
   "outputs": [
    {
     "name": "stdout",
     "output_type": "stream",
     "text": [
      "Fitting 5 folds for each of 40 candidates, totalling 200 fits\n",
      "[CV] leaf_size=30, n_neighbors=3, weights=uniform ....................\n",
      "[CV]  leaf_size=30, n_neighbors=3, weights=uniform, score=0.573, total=   0.1s\n",
      "[CV] leaf_size=30, n_neighbors=3, weights=uniform ....................\n",
      "[CV]  leaf_size=30, n_neighbors=3, weights=uniform, score=0.605, total=   0.0s\n",
      "[CV] leaf_size=30, n_neighbors=3, weights=uniform ....................\n"
     ]
    },
    {
     "name": "stderr",
     "output_type": "stream",
     "text": [
      "[Parallel(n_jobs=1)]: Using backend SequentialBackend with 1 concurrent workers.\n",
      "[Parallel(n_jobs=1)]: Done   1 out of   1 | elapsed:    0.1s remaining:    0.0s\n",
      "[Parallel(n_jobs=1)]: Done   2 out of   2 | elapsed:    0.2s remaining:    0.0s\n"
     ]
    },
    {
     "name": "stdout",
     "output_type": "stream",
     "text": [
      "[CV]  leaf_size=30, n_neighbors=3, weights=uniform, score=0.596, total=   0.0s\n",
      "[CV] leaf_size=30, n_neighbors=3, weights=uniform ....................\n",
      "[CV]  leaf_size=30, n_neighbors=3, weights=uniform, score=0.580, total=   0.0s\n",
      "[CV] leaf_size=30, n_neighbors=3, weights=uniform ....................\n",
      "[CV]  leaf_size=30, n_neighbors=3, weights=uniform, score=0.571, total=   0.0s\n",
      "[CV] leaf_size=30, n_neighbors=3, weights=distance ...................\n",
      "[CV]  leaf_size=30, n_neighbors=3, weights=distance, score=0.614, total=   0.0s\n",
      "[CV] leaf_size=30, n_neighbors=3, weights=distance ...................\n",
      "[CV]  leaf_size=30, n_neighbors=3, weights=distance, score=0.617, total=   0.0s\n",
      "[CV] leaf_size=30, n_neighbors=3, weights=distance ...................\n",
      "[CV]  leaf_size=30, n_neighbors=3, weights=distance, score=0.611, total=   0.0s\n",
      "[CV] leaf_size=30, n_neighbors=3, weights=distance ...................\n",
      "[CV]  leaf_size=30, n_neighbors=3, weights=distance, score=0.619, total=   0.0s\n",
      "[CV] leaf_size=30, n_neighbors=3, weights=distance ...................\n",
      "[CV]  leaf_size=30, n_neighbors=3, weights=distance, score=0.625, total=   0.0s\n",
      "[CV] leaf_size=30, n_neighbors=5, weights=uniform ....................\n",
      "[CV]  leaf_size=30, n_neighbors=5, weights=uniform, score=0.596, total=   0.0s\n",
      "[CV] leaf_size=30, n_neighbors=5, weights=uniform ....................\n",
      "[CV]  leaf_size=30, n_neighbors=5, weights=uniform, score=0.608, total=   0.0s\n",
      "[CV] leaf_size=30, n_neighbors=5, weights=uniform ....................\n",
      "[CV]  leaf_size=30, n_neighbors=5, weights=uniform, score=0.611, total=   0.0s\n",
      "[CV] leaf_size=30, n_neighbors=5, weights=uniform ....................\n",
      "[CV]  leaf_size=30, n_neighbors=5, weights=uniform, score=0.553, total=   0.0s\n",
      "[CV] leaf_size=30, n_neighbors=5, weights=uniform ....................\n",
      "[CV]  leaf_size=30, n_neighbors=5, weights=uniform, score=0.568, total=   0.0s\n",
      "[CV] leaf_size=30, n_neighbors=5, weights=distance ...................\n",
      "[CV]  leaf_size=30, n_neighbors=5, weights=distance, score=0.608, total=   0.0s\n",
      "[CV] leaf_size=30, n_neighbors=5, weights=distance ...................\n",
      "[CV]  leaf_size=30, n_neighbors=5, weights=distance, score=0.635, total=   0.0s\n",
      "[CV] leaf_size=30, n_neighbors=5, weights=distance ...................\n",
      "[CV]  leaf_size=30, n_neighbors=5, weights=distance, score=0.614, total=   0.0s\n",
      "[CV] leaf_size=30, n_neighbors=5, weights=distance ...................\n",
      "[CV]  leaf_size=30, n_neighbors=5, weights=distance, score=0.586, total=   0.0s\n",
      "[CV] leaf_size=30, n_neighbors=5, weights=distance ...................\n",
      "[CV]  leaf_size=30, n_neighbors=5, weights=distance, score=0.607, total=   0.0s\n",
      "[CV] leaf_size=30, n_neighbors=7, weights=uniform ....................\n",
      "[CV]  leaf_size=30, n_neighbors=7, weights=uniform, score=0.573, total=   0.0s\n",
      "[CV] leaf_size=30, n_neighbors=7, weights=uniform ....................\n",
      "[CV]  leaf_size=30, n_neighbors=7, weights=uniform, score=0.591, total=   0.0s\n",
      "[CV] leaf_size=30, n_neighbors=7, weights=uniform ....................\n",
      "[CV]  leaf_size=30, n_neighbors=7, weights=uniform, score=0.585, total=   0.1s\n",
      "[CV] leaf_size=30, n_neighbors=7, weights=uniform ....................\n",
      "[CV]  leaf_size=30, n_neighbors=7, weights=uniform, score=0.526, total=   0.1s\n",
      "[CV] leaf_size=30, n_neighbors=7, weights=uniform ....................\n",
      "[CV]  leaf_size=30, n_neighbors=7, weights=uniform, score=0.544, total=   0.1s\n",
      "[CV] leaf_size=30, n_neighbors=7, weights=distance ...................\n",
      "[CV]  leaf_size=30, n_neighbors=7, weights=distance, score=0.617, total=   0.1s\n",
      "[CV] leaf_size=30, n_neighbors=7, weights=distance ...................\n",
      "[CV]  leaf_size=30, n_neighbors=7, weights=distance, score=0.611, total=   0.0s\n",
      "[CV] leaf_size=30, n_neighbors=7, weights=distance ...................\n",
      "[CV]  leaf_size=30, n_neighbors=7, weights=distance, score=0.611, total=   0.0s\n",
      "[CV] leaf_size=30, n_neighbors=7, weights=distance ...................\n",
      "[CV]  leaf_size=30, n_neighbors=7, weights=distance, score=0.583, total=   0.0s\n",
      "[CV] leaf_size=30, n_neighbors=7, weights=distance ...................\n",
      "[CV]  leaf_size=30, n_neighbors=7, weights=distance, score=0.598, total=   0.0s\n",
      "[CV] leaf_size=30, n_neighbors=9, weights=uniform ....................\n",
      "[CV]  leaf_size=30, n_neighbors=9, weights=uniform, score=0.576, total=   0.1s\n",
      "[CV] leaf_size=30, n_neighbors=9, weights=uniform ....................\n",
      "[CV]  leaf_size=30, n_neighbors=9, weights=uniform, score=0.614, total=   0.1s\n",
      "[CV] leaf_size=30, n_neighbors=9, weights=uniform ....................\n",
      "[CV]  leaf_size=30, n_neighbors=9, weights=uniform, score=0.576, total=   0.1s\n",
      "[CV] leaf_size=30, n_neighbors=9, weights=uniform ....................\n",
      "[CV]  leaf_size=30, n_neighbors=9, weights=uniform, score=0.562, total=   0.1s\n",
      "[CV] leaf_size=30, n_neighbors=9, weights=uniform ....................\n",
      "[CV]  leaf_size=30, n_neighbors=9, weights=uniform, score=0.574, total=   0.1s\n",
      "[CV] leaf_size=30, n_neighbors=9, weights=distance ...................\n",
      "[CV]  leaf_size=30, n_neighbors=9, weights=distance, score=0.596, total=   0.0s\n",
      "[CV] leaf_size=30, n_neighbors=9, weights=distance ...................\n",
      "[CV]  leaf_size=30, n_neighbors=9, weights=distance, score=0.617, total=   0.1s\n",
      "[CV] leaf_size=30, n_neighbors=9, weights=distance ...................\n",
      "[CV]  leaf_size=30, n_neighbors=9, weights=distance, score=0.605, total=   0.0s\n",
      "[CV] leaf_size=30, n_neighbors=9, weights=distance ...................\n",
      "[CV]  leaf_size=30, n_neighbors=9, weights=distance, score=0.601, total=   0.0s\n",
      "[CV] leaf_size=30, n_neighbors=9, weights=distance ...................\n",
      "[CV]  leaf_size=30, n_neighbors=9, weights=distance, score=0.595, total=   0.0s\n",
      "[CV] leaf_size=30, n_neighbors=11, weights=uniform ...................\n",
      "[CV]  leaf_size=30, n_neighbors=11, weights=uniform, score=0.561, total=   0.0s\n",
      "[CV] leaf_size=30, n_neighbors=11, weights=uniform ...................\n",
      "[CV]  leaf_size=30, n_neighbors=11, weights=uniform, score=0.602, total=   0.1s\n",
      "[CV] leaf_size=30, n_neighbors=11, weights=uniform ...................\n",
      "[CV]  leaf_size=30, n_neighbors=11, weights=uniform, score=0.567, total=   0.0s\n",
      "[CV] leaf_size=30, n_neighbors=11, weights=uniform ...................\n",
      "[CV]  leaf_size=30, n_neighbors=11, weights=uniform, score=0.550, total=   0.1s\n",
      "[CV] leaf_size=30, n_neighbors=11, weights=uniform ...................\n",
      "[CV]  leaf_size=30, n_neighbors=11, weights=uniform, score=0.556, total=   0.0s\n",
      "[CV] leaf_size=30, n_neighbors=11, weights=distance ..................\n",
      "[CV]  leaf_size=30, n_neighbors=11, weights=distance, score=0.617, total=   0.0s\n",
      "[CV] leaf_size=30, n_neighbors=11, weights=distance ..................\n",
      "[CV]  leaf_size=30, n_neighbors=11, weights=distance, score=0.623, total=   0.0s\n",
      "[CV] leaf_size=30, n_neighbors=11, weights=distance ..................\n",
      "[CV]  leaf_size=30, n_neighbors=11, weights=distance, score=0.576, total=   0.0s\n",
      "[CV] leaf_size=30, n_neighbors=11, weights=distance ..................\n",
      "[CV]  leaf_size=30, n_neighbors=11, weights=distance, score=0.592, total=   0.0s\n",
      "[CV] leaf_size=30, n_neighbors=11, weights=distance ..................\n",
      "[CV]  leaf_size=30, n_neighbors=11, weights=distance, score=0.583, total=   0.0s\n",
      "[CV] leaf_size=45, n_neighbors=3, weights=uniform ....................\n",
      "[CV]  leaf_size=45, n_neighbors=3, weights=uniform, score=0.576, total=   0.0s\n",
      "[CV] leaf_size=45, n_neighbors=3, weights=uniform ....................\n",
      "[CV]  leaf_size=45, n_neighbors=3, weights=uniform, score=0.605, total=   0.0s\n",
      "[CV] leaf_size=45, n_neighbors=3, weights=uniform ....................\n",
      "[CV]  leaf_size=45, n_neighbors=3, weights=uniform, score=0.596, total=   0.0s\n",
      "[CV] leaf_size=45, n_neighbors=3, weights=uniform ....................\n",
      "[CV]  leaf_size=45, n_neighbors=3, weights=uniform, score=0.580, total=   0.0s\n",
      "[CV] leaf_size=45, n_neighbors=3, weights=uniform ....................\n",
      "[CV]  leaf_size=45, n_neighbors=3, weights=uniform, score=0.568, total=   0.0s\n",
      "[CV] leaf_size=45, n_neighbors=3, weights=distance ...................\n",
      "[CV]  leaf_size=45, n_neighbors=3, weights=distance, score=0.617, total=   0.0s\n",
      "[CV] leaf_size=45, n_neighbors=3, weights=distance ...................\n",
      "[CV]  leaf_size=45, n_neighbors=3, weights=distance, score=0.617, total=   0.0s\n",
      "[CV] leaf_size=45, n_neighbors=3, weights=distance ...................\n",
      "[CV]  leaf_size=45, n_neighbors=3, weights=distance, score=0.611, total=   0.0s\n",
      "[CV] leaf_size=45, n_neighbors=3, weights=distance ...................\n",
      "[CV]  leaf_size=45, n_neighbors=3, weights=distance, score=0.619, total=   0.0s\n",
      "[CV] leaf_size=45, n_neighbors=3, weights=distance ...................\n",
      "[CV]  leaf_size=45, n_neighbors=3, weights=distance, score=0.625, total=   0.0s\n",
      "[CV] leaf_size=45, n_neighbors=5, weights=uniform ....................\n",
      "[CV]  leaf_size=45, n_neighbors=5, weights=uniform, score=0.596, total=   0.0s\n",
      "[CV] leaf_size=45, n_neighbors=5, weights=uniform ....................\n"
     ]
    },
    {
     "name": "stdout",
     "output_type": "stream",
     "text": [
      "[CV]  leaf_size=45, n_neighbors=5, weights=uniform, score=0.611, total=   0.0s\n",
      "[CV] leaf_size=45, n_neighbors=5, weights=uniform ....................\n",
      "[CV]  leaf_size=45, n_neighbors=5, weights=uniform, score=0.605, total=   0.1s\n",
      "[CV] leaf_size=45, n_neighbors=5, weights=uniform ....................\n",
      "[CV]  leaf_size=45, n_neighbors=5, weights=uniform, score=0.553, total=   0.1s\n",
      "[CV] leaf_size=45, n_neighbors=5, weights=uniform ....................\n",
      "[CV]  leaf_size=45, n_neighbors=5, weights=uniform, score=0.568, total=   0.1s\n",
      "[CV] leaf_size=45, n_neighbors=5, weights=distance ...................\n",
      "[CV]  leaf_size=45, n_neighbors=5, weights=distance, score=0.608, total=   0.0s\n",
      "[CV] leaf_size=45, n_neighbors=5, weights=distance ...................\n",
      "[CV]  leaf_size=45, n_neighbors=5, weights=distance, score=0.635, total=   0.0s\n",
      "[CV] leaf_size=45, n_neighbors=5, weights=distance ...................\n",
      "[CV]  leaf_size=45, n_neighbors=5, weights=distance, score=0.614, total=   0.0s\n",
      "[CV] leaf_size=45, n_neighbors=5, weights=distance ...................\n",
      "[CV]  leaf_size=45, n_neighbors=5, weights=distance, score=0.586, total=   0.0s\n",
      "[CV] leaf_size=45, n_neighbors=5, weights=distance ...................\n",
      "[CV]  leaf_size=45, n_neighbors=5, weights=distance, score=0.607, total=   0.0s\n",
      "[CV] leaf_size=45, n_neighbors=7, weights=uniform ....................\n",
      "[CV]  leaf_size=45, n_neighbors=7, weights=uniform, score=0.573, total=   0.1s\n",
      "[CV] leaf_size=45, n_neighbors=7, weights=uniform ....................\n",
      "[CV]  leaf_size=45, n_neighbors=7, weights=uniform, score=0.591, total=   0.1s\n",
      "[CV] leaf_size=45, n_neighbors=7, weights=uniform ....................\n",
      "[CV]  leaf_size=45, n_neighbors=7, weights=uniform, score=0.591, total=   0.1s\n",
      "[CV] leaf_size=45, n_neighbors=7, weights=uniform ....................\n",
      "[CV]  leaf_size=45, n_neighbors=7, weights=uniform, score=0.526, total=   0.1s\n",
      "[CV] leaf_size=45, n_neighbors=7, weights=uniform ....................\n",
      "[CV]  leaf_size=45, n_neighbors=7, weights=uniform, score=0.544, total=   0.1s\n",
      "[CV] leaf_size=45, n_neighbors=7, weights=distance ...................\n",
      "[CV]  leaf_size=45, n_neighbors=7, weights=distance, score=0.617, total=   0.0s\n",
      "[CV] leaf_size=45, n_neighbors=7, weights=distance ...................\n",
      "[CV]  leaf_size=45, n_neighbors=7, weights=distance, score=0.611, total=   0.0s\n",
      "[CV] leaf_size=45, n_neighbors=7, weights=distance ...................\n",
      "[CV]  leaf_size=45, n_neighbors=7, weights=distance, score=0.611, total=   0.0s\n",
      "[CV] leaf_size=45, n_neighbors=7, weights=distance ...................\n",
      "[CV]  leaf_size=45, n_neighbors=7, weights=distance, score=0.583, total=   0.0s\n",
      "[CV] leaf_size=45, n_neighbors=7, weights=distance ...................\n",
      "[CV]  leaf_size=45, n_neighbors=7, weights=distance, score=0.598, total=   0.0s\n",
      "[CV] leaf_size=45, n_neighbors=9, weights=uniform ....................\n",
      "[CV]  leaf_size=45, n_neighbors=9, weights=uniform, score=0.576, total=   0.1s\n",
      "[CV] leaf_size=45, n_neighbors=9, weights=uniform ....................\n",
      "[CV]  leaf_size=45, n_neighbors=9, weights=uniform, score=0.614, total=   0.1s\n",
      "[CV] leaf_size=45, n_neighbors=9, weights=uniform ....................\n",
      "[CV]  leaf_size=45, n_neighbors=9, weights=uniform, score=0.576, total=   0.1s\n",
      "[CV] leaf_size=45, n_neighbors=9, weights=uniform ....................\n",
      "[CV]  leaf_size=45, n_neighbors=9, weights=uniform, score=0.562, total=   0.1s\n",
      "[CV] leaf_size=45, n_neighbors=9, weights=uniform ....................\n",
      "[CV]  leaf_size=45, n_neighbors=9, weights=uniform, score=0.574, total=   0.1s\n",
      "[CV] leaf_size=45, n_neighbors=9, weights=distance ...................\n",
      "[CV]  leaf_size=45, n_neighbors=9, weights=distance, score=0.596, total=   0.0s\n",
      "[CV] leaf_size=45, n_neighbors=9, weights=distance ...................\n",
      "[CV]  leaf_size=45, n_neighbors=9, weights=distance, score=0.617, total=   0.0s\n",
      "[CV] leaf_size=45, n_neighbors=9, weights=distance ...................\n",
      "[CV]  leaf_size=45, n_neighbors=9, weights=distance, score=0.602, total=   0.0s\n",
      "[CV] leaf_size=45, n_neighbors=9, weights=distance ...................\n",
      "[CV]  leaf_size=45, n_neighbors=9, weights=distance, score=0.601, total=   0.0s\n",
      "[CV] leaf_size=45, n_neighbors=9, weights=distance ...................\n",
      "[CV]  leaf_size=45, n_neighbors=9, weights=distance, score=0.595, total=   0.0s\n",
      "[CV] leaf_size=45, n_neighbors=11, weights=uniform ...................\n",
      "[CV]  leaf_size=45, n_neighbors=11, weights=uniform, score=0.561, total=   0.1s\n",
      "[CV] leaf_size=45, n_neighbors=11, weights=uniform ...................\n",
      "[CV]  leaf_size=45, n_neighbors=11, weights=uniform, score=0.602, total=   0.1s\n",
      "[CV] leaf_size=45, n_neighbors=11, weights=uniform ...................\n",
      "[CV]  leaf_size=45, n_neighbors=11, weights=uniform, score=0.570, total=   0.1s\n",
      "[CV] leaf_size=45, n_neighbors=11, weights=uniform ...................\n",
      "[CV]  leaf_size=45, n_neighbors=11, weights=uniform, score=0.550, total=   0.1s\n",
      "[CV] leaf_size=45, n_neighbors=11, weights=uniform ...................\n",
      "[CV]  leaf_size=45, n_neighbors=11, weights=uniform, score=0.556, total=   0.1s\n",
      "[CV] leaf_size=45, n_neighbors=11, weights=distance ..................\n",
      "[CV]  leaf_size=45, n_neighbors=11, weights=distance, score=0.617, total=   0.0s\n",
      "[CV] leaf_size=45, n_neighbors=11, weights=distance ..................\n",
      "[CV]  leaf_size=45, n_neighbors=11, weights=distance, score=0.623, total=   0.0s\n",
      "[CV] leaf_size=45, n_neighbors=11, weights=distance ..................\n",
      "[CV]  leaf_size=45, n_neighbors=11, weights=distance, score=0.579, total=   0.0s\n",
      "[CV] leaf_size=45, n_neighbors=11, weights=distance ..................\n",
      "[CV]  leaf_size=45, n_neighbors=11, weights=distance, score=0.592, total=   0.0s\n",
      "[CV] leaf_size=45, n_neighbors=11, weights=distance ..................\n",
      "[CV]  leaf_size=45, n_neighbors=11, weights=distance, score=0.583, total=   0.0s\n",
      "[CV] leaf_size=60, n_neighbors=3, weights=uniform ....................\n",
      "[CV]  leaf_size=60, n_neighbors=3, weights=uniform, score=0.576, total=   0.0s\n",
      "[CV] leaf_size=60, n_neighbors=3, weights=uniform ....................\n",
      "[CV]  leaf_size=60, n_neighbors=3, weights=uniform, score=0.605, total=   0.0s\n",
      "[CV] leaf_size=60, n_neighbors=3, weights=uniform ....................\n",
      "[CV]  leaf_size=60, n_neighbors=3, weights=uniform, score=0.596, total=   0.0s\n",
      "[CV] leaf_size=60, n_neighbors=3, weights=uniform ....................\n",
      "[CV]  leaf_size=60, n_neighbors=3, weights=uniform, score=0.580, total=   0.0s\n",
      "[CV] leaf_size=60, n_neighbors=3, weights=uniform ....................\n",
      "[CV]  leaf_size=60, n_neighbors=3, weights=uniform, score=0.568, total=   0.0s\n",
      "[CV] leaf_size=60, n_neighbors=3, weights=distance ...................\n",
      "[CV]  leaf_size=60, n_neighbors=3, weights=distance, score=0.617, total=   0.0s\n",
      "[CV] leaf_size=60, n_neighbors=3, weights=distance ...................\n",
      "[CV]  leaf_size=60, n_neighbors=3, weights=distance, score=0.617, total=   0.0s\n",
      "[CV] leaf_size=60, n_neighbors=3, weights=distance ...................\n",
      "[CV]  leaf_size=60, n_neighbors=3, weights=distance, score=0.611, total=   0.0s\n",
      "[CV] leaf_size=60, n_neighbors=3, weights=distance ...................\n",
      "[CV]  leaf_size=60, n_neighbors=3, weights=distance, score=0.619, total=   0.0s\n",
      "[CV] leaf_size=60, n_neighbors=3, weights=distance ...................\n",
      "[CV]  leaf_size=60, n_neighbors=3, weights=distance, score=0.625, total=   0.0s\n",
      "[CV] leaf_size=60, n_neighbors=5, weights=uniform ....................\n",
      "[CV]  leaf_size=60, n_neighbors=5, weights=uniform, score=0.596, total=   0.1s\n",
      "[CV] leaf_size=60, n_neighbors=5, weights=uniform ....................\n",
      "[CV]  leaf_size=60, n_neighbors=5, weights=uniform, score=0.611, total=   0.1s\n",
      "[CV] leaf_size=60, n_neighbors=5, weights=uniform ....................\n",
      "[CV]  leaf_size=60, n_neighbors=5, weights=uniform, score=0.605, total=   0.1s\n",
      "[CV] leaf_size=60, n_neighbors=5, weights=uniform ....................\n",
      "[CV]  leaf_size=60, n_neighbors=5, weights=uniform, score=0.553, total=   0.0s\n",
      "[CV] leaf_size=60, n_neighbors=5, weights=uniform ....................\n",
      "[CV]  leaf_size=60, n_neighbors=5, weights=uniform, score=0.568, total=   0.0s\n",
      "[CV] leaf_size=60, n_neighbors=5, weights=distance ...................\n",
      "[CV]  leaf_size=60, n_neighbors=5, weights=distance, score=0.608, total=   0.0s\n",
      "[CV] leaf_size=60, n_neighbors=5, weights=distance ...................\n"
     ]
    },
    {
     "name": "stdout",
     "output_type": "stream",
     "text": [
      "[CV]  leaf_size=60, n_neighbors=5, weights=distance, score=0.635, total=   0.0s\n",
      "[CV] leaf_size=60, n_neighbors=5, weights=distance ...................\n",
      "[CV]  leaf_size=60, n_neighbors=5, weights=distance, score=0.614, total=   0.0s\n",
      "[CV] leaf_size=60, n_neighbors=5, weights=distance ...................\n",
      "[CV]  leaf_size=60, n_neighbors=5, weights=distance, score=0.586, total=   0.0s\n",
      "[CV] leaf_size=60, n_neighbors=5, weights=distance ...................\n",
      "[CV]  leaf_size=60, n_neighbors=5, weights=distance, score=0.607, total=   0.0s\n",
      "[CV] leaf_size=60, n_neighbors=7, weights=uniform ....................\n",
      "[CV]  leaf_size=60, n_neighbors=7, weights=uniform, score=0.573, total=   0.1s\n",
      "[CV] leaf_size=60, n_neighbors=7, weights=uniform ....................\n",
      "[CV]  leaf_size=60, n_neighbors=7, weights=uniform, score=0.591, total=   0.1s\n",
      "[CV] leaf_size=60, n_neighbors=7, weights=uniform ....................\n",
      "[CV]  leaf_size=60, n_neighbors=7, weights=uniform, score=0.591, total=   0.0s\n",
      "[CV] leaf_size=60, n_neighbors=7, weights=uniform ....................\n",
      "[CV]  leaf_size=60, n_neighbors=7, weights=uniform, score=0.526, total=   0.1s\n",
      "[CV] leaf_size=60, n_neighbors=7, weights=uniform ....................\n",
      "[CV]  leaf_size=60, n_neighbors=7, weights=uniform, score=0.544, total=   0.1s\n",
      "[CV] leaf_size=60, n_neighbors=7, weights=distance ...................\n",
      "[CV]  leaf_size=60, n_neighbors=7, weights=distance, score=0.617, total=   0.0s\n",
      "[CV] leaf_size=60, n_neighbors=7, weights=distance ...................\n",
      "[CV]  leaf_size=60, n_neighbors=7, weights=distance, score=0.611, total=   0.0s\n",
      "[CV] leaf_size=60, n_neighbors=7, weights=distance ...................\n",
      "[CV]  leaf_size=60, n_neighbors=7, weights=distance, score=0.611, total=   0.0s\n",
      "[CV] leaf_size=60, n_neighbors=7, weights=distance ...................\n",
      "[CV]  leaf_size=60, n_neighbors=7, weights=distance, score=0.583, total=   0.0s\n",
      "[CV] leaf_size=60, n_neighbors=7, weights=distance ...................\n",
      "[CV]  leaf_size=60, n_neighbors=7, weights=distance, score=0.598, total=   0.0s\n",
      "[CV] leaf_size=60, n_neighbors=9, weights=uniform ....................\n",
      "[CV]  leaf_size=60, n_neighbors=9, weights=uniform, score=0.576, total=   0.1s\n",
      "[CV] leaf_size=60, n_neighbors=9, weights=uniform ....................\n",
      "[CV]  leaf_size=60, n_neighbors=9, weights=uniform, score=0.614, total=   0.1s\n",
      "[CV] leaf_size=60, n_neighbors=9, weights=uniform ....................\n",
      "[CV]  leaf_size=60, n_neighbors=9, weights=uniform, score=0.576, total=   0.0s\n",
      "[CV] leaf_size=60, n_neighbors=9, weights=uniform ....................\n",
      "[CV]  leaf_size=60, n_neighbors=9, weights=uniform, score=0.562, total=   0.0s\n",
      "[CV] leaf_size=60, n_neighbors=9, weights=uniform ....................\n",
      "[CV]  leaf_size=60, n_neighbors=9, weights=uniform, score=0.574, total=   0.0s\n",
      "[CV] leaf_size=60, n_neighbors=9, weights=distance ...................\n",
      "[CV]  leaf_size=60, n_neighbors=9, weights=distance, score=0.596, total=   0.0s\n",
      "[CV] leaf_size=60, n_neighbors=9, weights=distance ...................\n",
      "[CV]  leaf_size=60, n_neighbors=9, weights=distance, score=0.617, total=   0.0s\n",
      "[CV] leaf_size=60, n_neighbors=9, weights=distance ...................\n",
      "[CV]  leaf_size=60, n_neighbors=9, weights=distance, score=0.602, total=   0.0s\n",
      "[CV] leaf_size=60, n_neighbors=9, weights=distance ...................\n",
      "[CV]  leaf_size=60, n_neighbors=9, weights=distance, score=0.601, total=   0.1s\n",
      "[CV] leaf_size=60, n_neighbors=9, weights=distance ...................\n",
      "[CV]  leaf_size=60, n_neighbors=9, weights=distance, score=0.595, total=   0.0s\n",
      "[CV] leaf_size=60, n_neighbors=11, weights=uniform ...................\n",
      "[CV]  leaf_size=60, n_neighbors=11, weights=uniform, score=0.561, total=   0.1s\n",
      "[CV] leaf_size=60, n_neighbors=11, weights=uniform ...................\n",
      "[CV]  leaf_size=60, n_neighbors=11, weights=uniform, score=0.602, total=   0.1s\n",
      "[CV] leaf_size=60, n_neighbors=11, weights=uniform ...................\n",
      "[CV]  leaf_size=60, n_neighbors=11, weights=uniform, score=0.570, total=   0.1s\n",
      "[CV] leaf_size=60, n_neighbors=11, weights=uniform ...................\n",
      "[CV]  leaf_size=60, n_neighbors=11, weights=uniform, score=0.550, total=   0.1s\n",
      "[CV] leaf_size=60, n_neighbors=11, weights=uniform ...................\n",
      "[CV]  leaf_size=60, n_neighbors=11, weights=uniform, score=0.556, total=   0.1s\n",
      "[CV] leaf_size=60, n_neighbors=11, weights=distance ..................\n",
      "[CV]  leaf_size=60, n_neighbors=11, weights=distance, score=0.617, total=   0.0s\n",
      "[CV] leaf_size=60, n_neighbors=11, weights=distance ..................\n",
      "[CV]  leaf_size=60, n_neighbors=11, weights=distance, score=0.623, total=   0.0s\n",
      "[CV] leaf_size=60, n_neighbors=11, weights=distance ..................\n",
      "[CV]  leaf_size=60, n_neighbors=11, weights=distance, score=0.579, total=   0.0s\n",
      "[CV] leaf_size=60, n_neighbors=11, weights=distance ..................\n",
      "[CV]  leaf_size=60, n_neighbors=11, weights=distance, score=0.592, total=   0.0s\n",
      "[CV] leaf_size=60, n_neighbors=11, weights=distance ..................\n",
      "[CV]  leaf_size=60, n_neighbors=11, weights=distance, score=0.583, total=   0.0s\n",
      "[CV] leaf_size=75, n_neighbors=3, weights=uniform ....................\n",
      "[CV]  leaf_size=75, n_neighbors=3, weights=uniform, score=0.576, total=   0.0s\n",
      "[CV] leaf_size=75, n_neighbors=3, weights=uniform ....................\n",
      "[CV]  leaf_size=75, n_neighbors=3, weights=uniform, score=0.605, total=   0.0s\n",
      "[CV] leaf_size=75, n_neighbors=3, weights=uniform ....................\n",
      "[CV]  leaf_size=75, n_neighbors=3, weights=uniform, score=0.596, total=   0.0s\n",
      "[CV] leaf_size=75, n_neighbors=3, weights=uniform ....................\n",
      "[CV]  leaf_size=75, n_neighbors=3, weights=uniform, score=0.580, total=   0.0s\n",
      "[CV] leaf_size=75, n_neighbors=3, weights=uniform ....................\n",
      "[CV]  leaf_size=75, n_neighbors=3, weights=uniform, score=0.568, total=   0.0s\n",
      "[CV] leaf_size=75, n_neighbors=3, weights=distance ...................\n",
      "[CV]  leaf_size=75, n_neighbors=3, weights=distance, score=0.617, total=   0.0s\n",
      "[CV] leaf_size=75, n_neighbors=3, weights=distance ...................\n",
      "[CV]  leaf_size=75, n_neighbors=3, weights=distance, score=0.617, total=   0.0s\n",
      "[CV] leaf_size=75, n_neighbors=3, weights=distance ...................\n",
      "[CV]  leaf_size=75, n_neighbors=3, weights=distance, score=0.611, total=   0.0s\n",
      "[CV] leaf_size=75, n_neighbors=3, weights=distance ...................\n",
      "[CV]  leaf_size=75, n_neighbors=3, weights=distance, score=0.619, total=   0.0s\n",
      "[CV] leaf_size=75, n_neighbors=3, weights=distance ...................\n",
      "[CV]  leaf_size=75, n_neighbors=3, weights=distance, score=0.625, total=   0.0s\n",
      "[CV] leaf_size=75, n_neighbors=5, weights=uniform ....................\n",
      "[CV]  leaf_size=75, n_neighbors=5, weights=uniform, score=0.596, total=   0.1s\n",
      "[CV] leaf_size=75, n_neighbors=5, weights=uniform ....................\n",
      "[CV]  leaf_size=75, n_neighbors=5, weights=uniform, score=0.611, total=   0.0s\n",
      "[CV] leaf_size=75, n_neighbors=5, weights=uniform ....................\n",
      "[CV]  leaf_size=75, n_neighbors=5, weights=uniform, score=0.605, total=   0.1s\n",
      "[CV] leaf_size=75, n_neighbors=5, weights=uniform ....................\n",
      "[CV]  leaf_size=75, n_neighbors=5, weights=uniform, score=0.553, total=   0.0s\n",
      "[CV] leaf_size=75, n_neighbors=5, weights=uniform ....................\n",
      "[CV]  leaf_size=75, n_neighbors=5, weights=uniform, score=0.568, total=   0.0s\n",
      "[CV] leaf_size=75, n_neighbors=5, weights=distance ...................\n",
      "[CV]  leaf_size=75, n_neighbors=5, weights=distance, score=0.608, total=   0.0s\n",
      "[CV] leaf_size=75, n_neighbors=5, weights=distance ...................\n",
      "[CV]  leaf_size=75, n_neighbors=5, weights=distance, score=0.635, total=   0.0s\n",
      "[CV] leaf_size=75, n_neighbors=5, weights=distance ...................\n",
      "[CV]  leaf_size=75, n_neighbors=5, weights=distance, score=0.614, total=   0.0s\n",
      "[CV] leaf_size=75, n_neighbors=5, weights=distance ...................\n",
      "[CV]  leaf_size=75, n_neighbors=5, weights=distance, score=0.586, total=   0.0s\n",
      "[CV] leaf_size=75, n_neighbors=5, weights=distance ...................\n",
      "[CV]  leaf_size=75, n_neighbors=5, weights=distance, score=0.607, total=   0.0s\n",
      "[CV] leaf_size=75, n_neighbors=7, weights=uniform ....................\n",
      "[CV]  leaf_size=75, n_neighbors=7, weights=uniform, score=0.573, total=   0.1s\n",
      "[CV] leaf_size=75, n_neighbors=7, weights=uniform ....................\n",
      "[CV]  leaf_size=75, n_neighbors=7, weights=uniform, score=0.591, total=   0.1s\n",
      "[CV] leaf_size=75, n_neighbors=7, weights=uniform ....................\n",
      "[CV]  leaf_size=75, n_neighbors=7, weights=uniform, score=0.591, total=   0.1s\n",
      "[CV] leaf_size=75, n_neighbors=7, weights=uniform ....................\n",
      "[CV]  leaf_size=75, n_neighbors=7, weights=uniform, score=0.526, total=   0.1s\n",
      "[CV] leaf_size=75, n_neighbors=7, weights=uniform ....................\n"
     ]
    },
    {
     "name": "stdout",
     "output_type": "stream",
     "text": [
      "[CV]  leaf_size=75, n_neighbors=7, weights=uniform, score=0.544, total=   0.1s\n",
      "[CV] leaf_size=75, n_neighbors=7, weights=distance ...................\n",
      "[CV]  leaf_size=75, n_neighbors=7, weights=distance, score=0.617, total=   0.0s\n",
      "[CV] leaf_size=75, n_neighbors=7, weights=distance ...................\n",
      "[CV]  leaf_size=75, n_neighbors=7, weights=distance, score=0.611, total=   0.0s\n",
      "[CV] leaf_size=75, n_neighbors=7, weights=distance ...................\n",
      "[CV]  leaf_size=75, n_neighbors=7, weights=distance, score=0.611, total=   0.0s\n",
      "[CV] leaf_size=75, n_neighbors=7, weights=distance ...................\n",
      "[CV]  leaf_size=75, n_neighbors=7, weights=distance, score=0.583, total=   0.0s\n",
      "[CV] leaf_size=75, n_neighbors=7, weights=distance ...................\n",
      "[CV]  leaf_size=75, n_neighbors=7, weights=distance, score=0.598, total=   0.0s\n",
      "[CV] leaf_size=75, n_neighbors=9, weights=uniform ....................\n",
      "[CV]  leaf_size=75, n_neighbors=9, weights=uniform, score=0.576, total=   0.1s\n",
      "[CV] leaf_size=75, n_neighbors=9, weights=uniform ....................\n",
      "[CV]  leaf_size=75, n_neighbors=9, weights=uniform, score=0.614, total=   0.1s\n",
      "[CV] leaf_size=75, n_neighbors=9, weights=uniform ....................\n",
      "[CV]  leaf_size=75, n_neighbors=9, weights=uniform, score=0.576, total=   0.1s\n",
      "[CV] leaf_size=75, n_neighbors=9, weights=uniform ....................\n",
      "[CV]  leaf_size=75, n_neighbors=9, weights=uniform, score=0.562, total=   0.1s\n",
      "[CV] leaf_size=75, n_neighbors=9, weights=uniform ....................\n",
      "[CV]  leaf_size=75, n_neighbors=9, weights=uniform, score=0.574, total=   0.1s\n",
      "[CV] leaf_size=75, n_neighbors=9, weights=distance ...................\n",
      "[CV]  leaf_size=75, n_neighbors=9, weights=distance, score=0.596, total=   0.1s\n",
      "[CV] leaf_size=75, n_neighbors=9, weights=distance ...................\n",
      "[CV]  leaf_size=75, n_neighbors=9, weights=distance, score=0.617, total=   0.1s\n",
      "[CV] leaf_size=75, n_neighbors=9, weights=distance ...................\n",
      "[CV]  leaf_size=75, n_neighbors=9, weights=distance, score=0.602, total=   0.1s\n",
      "[CV] leaf_size=75, n_neighbors=9, weights=distance ...................\n",
      "[CV]  leaf_size=75, n_neighbors=9, weights=distance, score=0.601, total=   0.1s\n",
      "[CV] leaf_size=75, n_neighbors=9, weights=distance ...................\n",
      "[CV]  leaf_size=75, n_neighbors=9, weights=distance, score=0.595, total=   0.1s\n",
      "[CV] leaf_size=75, n_neighbors=11, weights=uniform ...................\n",
      "[CV]  leaf_size=75, n_neighbors=11, weights=uniform, score=0.561, total=   0.1s\n",
      "[CV] leaf_size=75, n_neighbors=11, weights=uniform ...................\n",
      "[CV]  leaf_size=75, n_neighbors=11, weights=uniform, score=0.602, total=   0.1s\n",
      "[CV] leaf_size=75, n_neighbors=11, weights=uniform ...................\n",
      "[CV]  leaf_size=75, n_neighbors=11, weights=uniform, score=0.570, total=   0.1s\n",
      "[CV] leaf_size=75, n_neighbors=11, weights=uniform ...................\n",
      "[CV]  leaf_size=75, n_neighbors=11, weights=uniform, score=0.550, total=   0.0s\n",
      "[CV] leaf_size=75, n_neighbors=11, weights=uniform ...................\n",
      "[CV]  leaf_size=75, n_neighbors=11, weights=uniform, score=0.556, total=   0.0s\n",
      "[CV] leaf_size=75, n_neighbors=11, weights=distance ..................\n",
      "[CV]  leaf_size=75, n_neighbors=11, weights=distance, score=0.617, total=   0.0s\n",
      "[CV] leaf_size=75, n_neighbors=11, weights=distance ..................\n",
      "[CV]  leaf_size=75, n_neighbors=11, weights=distance, score=0.623, total=   0.1s\n",
      "[CV] leaf_size=75, n_neighbors=11, weights=distance ..................\n",
      "[CV]  leaf_size=75, n_neighbors=11, weights=distance, score=0.579, total=   0.0s\n",
      "[CV] leaf_size=75, n_neighbors=11, weights=distance ..................\n",
      "[CV]  leaf_size=75, n_neighbors=11, weights=distance, score=0.592, total=   0.0s\n",
      "[CV] leaf_size=75, n_neighbors=11, weights=distance ..................\n",
      "[CV]  leaf_size=75, n_neighbors=11, weights=distance, score=0.583, total=   0.0s\n"
     ]
    },
    {
     "name": "stderr",
     "output_type": "stream",
     "text": [
      "[Parallel(n_jobs=1)]: Done 200 out of 200 | elapsed:    9.8s finished\n"
     ]
    },
    {
     "data": {
      "text/plain": [
       "GridSearchCV(cv=5, error_score='raise-deprecating',\n",
       "             estimator=KNeighborsClassifier(algorithm='auto', leaf_size=30,\n",
       "                                            metric='minkowski',\n",
       "                                            metric_params=None, n_jobs=None,\n",
       "                                            n_neighbors=5, p=2,\n",
       "                                            weights='uniform'),\n",
       "             iid='warn', n_jobs=None,\n",
       "             param_grid={'leaf_size': [30, 45, 60, 75],\n",
       "                         'n_neighbors': [3, 5, 7, 9, 11],\n",
       "                         'weights': ['uniform', 'distance']},\n",
       "             pre_dispatch='2*n_jobs', refit=True, return_train_score=False,\n",
       "             scoring=None, verbose=3)"
      ]
     },
     "execution_count": 250,
     "metadata": {},
     "output_type": "execute_result"
    }
   ],
   "source": [
    "GS.fit(norm_X, y_train)"
   ]
  },
  {
   "cell_type": "code",
   "execution_count": 251,
   "metadata": {},
   "outputs": [
    {
     "data": {
      "text/plain": [
       "{'leaf_size': 45, 'n_neighbors': 3, 'weights': 'distance'}"
      ]
     },
     "execution_count": 251,
     "metadata": {},
     "output_type": "execute_result"
    }
   ],
   "source": [
    "GS.best_params_"
   ]
  },
  {
   "cell_type": "code",
   "execution_count": 252,
   "metadata": {},
   "outputs": [],
   "source": [
    "KNN = KNeighborsClassifier(leaf_size=45, n_neighbors=3, weights='distance')"
   ]
  },
  {
   "cell_type": "code",
   "execution_count": 258,
   "metadata": {},
   "outputs": [
    {
     "data": {
      "text/plain": [
       "KNeighborsClassifier(algorithm='auto', leaf_size=45, metric='minkowski',\n",
       "                     metric_params=None, n_jobs=None, n_neighbors=3, p=2,\n",
       "                     weights='distance')"
      ]
     },
     "execution_count": 258,
     "metadata": {},
     "output_type": "execute_result"
    }
   ],
   "source": [
    "KNN.fit(norm_X, y_train)"
   ]
  },
  {
   "cell_type": "code",
   "execution_count": 259,
   "metadata": {},
   "outputs": [],
   "source": [
    "y_pred = KNN.predict(norm_X_test)"
   ]
  },
  {
   "cell_type": "code",
   "execution_count": 260,
   "metadata": {},
   "outputs": [
    {
     "data": {
      "text/plain": [
       "0.6216973369315215"
      ]
     },
     "execution_count": 260,
     "metadata": {},
     "output_type": "execute_result"
    }
   ],
   "source": [
    "f1_score(y_test, y_pred, labels=None, pos_label=1, average='weighted')"
   ]
  },
  {
   "cell_type": "markdown",
   "metadata": {},
   "source": [
    "### Using new df"
   ]
  },
  {
   "cell_type": "code",
   "execution_count": 262,
   "metadata": {},
   "outputs": [],
   "source": [
    "df = pd.read_csv('./data/df_final.csv', index_col=0)"
   ]
  },
  {
   "cell_type": "code",
   "execution_count": 265,
   "metadata": {},
   "outputs": [],
   "source": [
    "X = df.drop('label', axis=1)"
   ]
  },
  {
   "cell_type": "code",
   "execution_count": 266,
   "metadata": {},
   "outputs": [],
   "source": [
    "y = df.label"
   ]
  },
  {
   "cell_type": "code",
   "execution_count": 267,
   "metadata": {},
   "outputs": [],
   "source": [
    "X_train, X_test, y_train, y_test = train_test_split(X, y, test_size=0.25, random_state=42, stratify=y)"
   ]
  },
  {
   "cell_type": "code",
   "execution_count": 270,
   "metadata": {},
   "outputs": [],
   "source": [
    "RFC = RandomForestClassifier(n_jobs=-1)"
   ]
  },
  {
   "cell_type": "code",
   "execution_count": 269,
   "metadata": {},
   "outputs": [],
   "source": [
    "param_grid = {\n",
    "    'n_estimators': [500, 750],\n",
    "    'max_features': ['auto', 'sqrt', 'log2'],\n",
    "    'max_depth': [2, 4, 8, 16],\n",
    "    'min_samples_leaf': [2, 5, 10]\n",
    "}"
   ]
  },
  {
   "cell_type": "code",
   "execution_count": null,
   "metadata": {},
   "outputs": [],
   "source": [
    "GS = GridSearchCV(RFC, param_grid, cv=5)"
   ]
  }
 ],
 "metadata": {
  "kernelspec": {
   "display_name": "Python 3",
   "language": "python",
   "name": "python3"
  },
  "language_info": {
   "codemirror_mode": {
    "name": "ipython",
    "version": 3
   },
   "file_extension": ".py",
   "mimetype": "text/x-python",
   "name": "python",
   "nbconvert_exporter": "python",
   "pygments_lexer": "ipython3",
   "version": "3.6.8"
  }
 },
 "nbformat": 4,
 "nbformat_minor": 2
}
