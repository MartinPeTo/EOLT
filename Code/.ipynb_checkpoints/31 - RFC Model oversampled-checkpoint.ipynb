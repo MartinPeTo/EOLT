{
 "cells": [
  {
   "cell_type": "code",
   "execution_count": 1,
   "metadata": {},
   "outputs": [],
   "source": [
    "#Import\n",
    "\n",
    "import pandas as pd\n",
    "import numpy as np\n",
    "from sklearn.ensemble import RandomForestClassifier\n",
    "from sklearn.metrics import f1_score\n",
    "from sklearn.metrics import accuracy_score\n",
    "from sklearn.metrics import confusion_matrix\n",
    "\n",
    "from sklearn.model_selection import train_test_split\n",
    "from sklearn.model_selection import GridSearchCV\n",
    "from sklearn.model_selection import KFold"
   ]
  },
  {
   "cell_type": "code",
   "execution_count": 2,
   "metadata": {},
   "outputs": [],
   "source": [
    "df = pd.read_csv('../Data/final.csv')"
   ]
  },
  {
   "cell_type": "markdown",
   "metadata": {},
   "source": [
    "### Oversampling the data with smote:"
   ]
  },
  {
   "cell_type": "code",
   "execution_count": 3,
   "metadata": {},
   "outputs": [],
   "source": [
    "# https://imbalanced-learn.readthedocs.io/en/stable/over_sampling.html#smote-variants"
   ]
  },
  {
   "cell_type": "code",
   "execution_count": 4,
   "metadata": {},
   "outputs": [
    {
     "name": "stderr",
     "output_type": "stream",
     "text": [
      "Using TensorFlow backend.\n",
      "/home/martin/.local/lib/python3.6/site-packages/tensorflow/python/framework/dtypes.py:516: FutureWarning: Passing (type, 1) or '1type' as a synonym of type is deprecated; in a future version of numpy, it will be understood as (type, (1,)) / '(1,)type'.\n",
      "  _np_qint8 = np.dtype([(\"qint8\", np.int8, 1)])\n",
      "/home/martin/.local/lib/python3.6/site-packages/tensorflow/python/framework/dtypes.py:517: FutureWarning: Passing (type, 1) or '1type' as a synonym of type is deprecated; in a future version of numpy, it will be understood as (type, (1,)) / '(1,)type'.\n",
      "  _np_quint8 = np.dtype([(\"quint8\", np.uint8, 1)])\n",
      "/home/martin/.local/lib/python3.6/site-packages/tensorflow/python/framework/dtypes.py:518: FutureWarning: Passing (type, 1) or '1type' as a synonym of type is deprecated; in a future version of numpy, it will be understood as (type, (1,)) / '(1,)type'.\n",
      "  _np_qint16 = np.dtype([(\"qint16\", np.int16, 1)])\n",
      "/home/martin/.local/lib/python3.6/site-packages/tensorflow/python/framework/dtypes.py:519: FutureWarning: Passing (type, 1) or '1type' as a synonym of type is deprecated; in a future version of numpy, it will be understood as (type, (1,)) / '(1,)type'.\n",
      "  _np_quint16 = np.dtype([(\"quint16\", np.uint16, 1)])\n",
      "/home/martin/.local/lib/python3.6/site-packages/tensorflow/python/framework/dtypes.py:520: FutureWarning: Passing (type, 1) or '1type' as a synonym of type is deprecated; in a future version of numpy, it will be understood as (type, (1,)) / '(1,)type'.\n",
      "  _np_qint32 = np.dtype([(\"qint32\", np.int32, 1)])\n",
      "/home/martin/.local/lib/python3.6/site-packages/tensorflow/python/framework/dtypes.py:525: FutureWarning: Passing (type, 1) or '1type' as a synonym of type is deprecated; in a future version of numpy, it will be understood as (type, (1,)) / '(1,)type'.\n",
      "  np_resource = np.dtype([(\"resource\", np.ubyte, 1)])\n",
      "/home/martin/.local/lib/python3.6/site-packages/tensorboard/compat/tensorflow_stub/dtypes.py:541: FutureWarning: Passing (type, 1) or '1type' as a synonym of type is deprecated; in a future version of numpy, it will be understood as (type, (1,)) / '(1,)type'.\n",
      "  _np_qint8 = np.dtype([(\"qint8\", np.int8, 1)])\n",
      "/home/martin/.local/lib/python3.6/site-packages/tensorboard/compat/tensorflow_stub/dtypes.py:542: FutureWarning: Passing (type, 1) or '1type' as a synonym of type is deprecated; in a future version of numpy, it will be understood as (type, (1,)) / '(1,)type'.\n",
      "  _np_quint8 = np.dtype([(\"quint8\", np.uint8, 1)])\n",
      "/home/martin/.local/lib/python3.6/site-packages/tensorboard/compat/tensorflow_stub/dtypes.py:543: FutureWarning: Passing (type, 1) or '1type' as a synonym of type is deprecated; in a future version of numpy, it will be understood as (type, (1,)) / '(1,)type'.\n",
      "  _np_qint16 = np.dtype([(\"qint16\", np.int16, 1)])\n",
      "/home/martin/.local/lib/python3.6/site-packages/tensorboard/compat/tensorflow_stub/dtypes.py:544: FutureWarning: Passing (type, 1) or '1type' as a synonym of type is deprecated; in a future version of numpy, it will be understood as (type, (1,)) / '(1,)type'.\n",
      "  _np_quint16 = np.dtype([(\"quint16\", np.uint16, 1)])\n",
      "/home/martin/.local/lib/python3.6/site-packages/tensorboard/compat/tensorflow_stub/dtypes.py:545: FutureWarning: Passing (type, 1) or '1type' as a synonym of type is deprecated; in a future version of numpy, it will be understood as (type, (1,)) / '(1,)type'.\n",
      "  _np_qint32 = np.dtype([(\"qint32\", np.int32, 1)])\n",
      "/home/martin/.local/lib/python3.6/site-packages/tensorboard/compat/tensorflow_stub/dtypes.py:550: FutureWarning: Passing (type, 1) or '1type' as a synonym of type is deprecated; in a future version of numpy, it will be understood as (type, (1,)) / '(1,)type'.\n",
      "  np_resource = np.dtype([(\"resource\", np.ubyte, 1)])\n"
     ]
    }
   ],
   "source": [
    "#Import\n",
    "from imblearn.over_sampling import BorderlineSMOTE"
   ]
  },
  {
   "cell_type": "code",
   "execution_count": 5,
   "metadata": {},
   "outputs": [],
   "source": [
    "#First we need to create X and y:\n",
    "X = df.drop(['SN','status'], axis=1)\n",
    "y = df.status"
   ]
  },
  {
   "cell_type": "code",
   "execution_count": 6,
   "metadata": {},
   "outputs": [],
   "source": [
    "X_resampled, y_resampled = BorderlineSMOTE().fit_resample(X, y)"
   ]
  },
  {
   "cell_type": "code",
   "execution_count": 7,
   "metadata": {},
   "outputs": [
    {
     "data": {
      "text/plain": [
       "4628"
      ]
     },
     "execution_count": 7,
     "metadata": {},
     "output_type": "execute_result"
    }
   ],
   "source": [
    "len(X_resampled)"
   ]
  },
  {
   "cell_type": "code",
   "execution_count": 8,
   "metadata": {
    "scrolled": true
   },
   "outputs": [
    {
     "data": {
      "text/plain": [
       "4628"
      ]
     },
     "execution_count": 8,
     "metadata": {},
     "output_type": "execute_result"
    }
   ],
   "source": [
    "len(y_resampled)"
   ]
  },
  {
   "cell_type": "code",
   "execution_count": 9,
   "metadata": {},
   "outputs": [
    {
     "name": "stdout",
     "output_type": "stream",
     "text": [
      "Frequency of PASS/FAIL values:\n",
      "[['F' 'P']\n",
      " [2314 2314]]\n"
     ]
    }
   ],
   "source": [
    "unique_elements, counts_elements = np.unique(y_resampled, return_counts=True)\n",
    "print(\"Frequency of PASS/FAIL values:\")\n",
    "print(np.asarray((unique_elements, counts_elements)))"
   ]
  },
  {
   "cell_type": "code",
   "execution_count": 10,
   "metadata": {},
   "outputs": [],
   "source": [
    "#We create a new dataframe with the resampled data:\n",
    "df_oversample = pd.DataFrame(data=X_resampled, columns=X.columns)"
   ]
  },
  {
   "cell_type": "code",
   "execution_count": 11,
   "metadata": {},
   "outputs": [],
   "source": [
    "#Adding the Y_resampled:\n",
    "df_oversample['status'] = y_resampled"
   ]
  },
  {
   "cell_type": "code",
   "execution_count": 12,
   "metadata": {},
   "outputs": [
    {
     "data": {
      "text/html": [
       "<div>\n",
       "<style scoped>\n",
       "    .dataframe tbody tr th:only-of-type {\n",
       "        vertical-align: middle;\n",
       "    }\n",
       "\n",
       "    .dataframe tbody tr th {\n",
       "        vertical-align: top;\n",
       "    }\n",
       "\n",
       "    .dataframe thead th {\n",
       "        text-align: right;\n",
       "    }\n",
       "</style>\n",
       "<table border=\"1\" class=\"dataframe\">\n",
       "  <thead>\n",
       "    <tr style=\"text-align: right;\">\n",
       "      <th></th>\n",
       "      <th>A_Indep_Front</th>\n",
       "      <th>A_RollSpeed_Front</th>\n",
       "      <th>A_R2R2W_Front</th>\n",
       "      <th>KM_Front</th>\n",
       "      <th>KM_DEV_Front</th>\n",
       "      <th>A_Indep_Rear</th>\n",
       "      <th>A_RollSpeed_Rear</th>\n",
       "      <th>A_R2R2W_Rear</th>\n",
       "      <th>KM_Rear</th>\n",
       "      <th>KM_DEV_Rear</th>\n",
       "      <th>TR_PWM_SLOP_FRONT</th>\n",
       "      <th>TR_PWM_OFFSET_FRONT</th>\n",
       "      <th>R2_Front</th>\n",
       "      <th>TR_AccuENC_RATIO_FRONT</th>\n",
       "      <th>TR_PWM_SLOP_REAR</th>\n",
       "      <th>TR_PWM_OFFSET_REAR</th>\n",
       "      <th>R2_Rear</th>\n",
       "      <th>TR_AccuENC_RATIO_REAR</th>\n",
       "      <th>status</th>\n",
       "    </tr>\n",
       "  </thead>\n",
       "  <tbody>\n",
       "    <tr>\n",
       "      <th>0</th>\n",
       "      <td>0.390513</td>\n",
       "      <td>0.000601</td>\n",
       "      <td>128.379043</td>\n",
       "      <td>0.041950</td>\n",
       "      <td>0.037106</td>\n",
       "      <td>0.468861</td>\n",
       "      <td>0.000664</td>\n",
       "      <td>89.051406</td>\n",
       "      <td>0.042561</td>\n",
       "      <td>0.053677</td>\n",
       "      <td>1.370314</td>\n",
       "      <td>-37.246261</td>\n",
       "      <td>0.999998</td>\n",
       "      <td>9.075283</td>\n",
       "      <td>1.372229</td>\n",
       "      <td>-45.169482</td>\n",
       "      <td>0.999979</td>\n",
       "      <td>9.176037</td>\n",
       "      <td>P</td>\n",
       "    </tr>\n",
       "    <tr>\n",
       "      <th>1</th>\n",
       "      <td>0.348259</td>\n",
       "      <td>0.000509</td>\n",
       "      <td>129.046143</td>\n",
       "      <td>0.041847</td>\n",
       "      <td>0.052308</td>\n",
       "      <td>0.338558</td>\n",
       "      <td>0.000449</td>\n",
       "      <td>86.579810</td>\n",
       "      <td>0.041813</td>\n",
       "      <td>0.041948</td>\n",
       "      <td>1.374144</td>\n",
       "      <td>-28.468581</td>\n",
       "      <td>0.999986</td>\n",
       "      <td>9.075158</td>\n",
       "      <td>1.370026</td>\n",
       "      <td>-40.577860</td>\n",
       "      <td>0.999983</td>\n",
       "      <td>9.174968</td>\n",
       "      <td>P</td>\n",
       "    </tr>\n",
       "    <tr>\n",
       "      <th>2</th>\n",
       "      <td>0.407983</td>\n",
       "      <td>0.000620</td>\n",
       "      <td>53.861514</td>\n",
       "      <td>0.041439</td>\n",
       "      <td>0.031839</td>\n",
       "      <td>0.447917</td>\n",
       "      <td>0.001068</td>\n",
       "      <td>72.697784</td>\n",
       "      <td>0.041715</td>\n",
       "      <td>0.033923</td>\n",
       "      <td>1.335473</td>\n",
       "      <td>-38.879725</td>\n",
       "      <td>0.999897</td>\n",
       "      <td>9.076344</td>\n",
       "      <td>1.377100</td>\n",
       "      <td>-38.177445</td>\n",
       "      <td>0.999997</td>\n",
       "      <td>9.179953</td>\n",
       "      <td>P</td>\n",
       "    </tr>\n",
       "    <tr>\n",
       "      <th>3</th>\n",
       "      <td>0.386216</td>\n",
       "      <td>0.000631</td>\n",
       "      <td>76.627232</td>\n",
       "      <td>0.041407</td>\n",
       "      <td>0.034478</td>\n",
       "      <td>0.384400</td>\n",
       "      <td>0.000903</td>\n",
       "      <td>79.220271</td>\n",
       "      <td>0.042135</td>\n",
       "      <td>0.032906</td>\n",
       "      <td>1.331818</td>\n",
       "      <td>-32.805212</td>\n",
       "      <td>0.999993</td>\n",
       "      <td>9.075598</td>\n",
       "      <td>1.379523</td>\n",
       "      <td>-58.649253</td>\n",
       "      <td>0.999995</td>\n",
       "      <td>9.156949</td>\n",
       "      <td>P</td>\n",
       "    </tr>\n",
       "    <tr>\n",
       "      <th>4</th>\n",
       "      <td>0.373776</td>\n",
       "      <td>0.000921</td>\n",
       "      <td>94.511528</td>\n",
       "      <td>0.041983</td>\n",
       "      <td>0.037544</td>\n",
       "      <td>0.451047</td>\n",
       "      <td>0.000969</td>\n",
       "      <td>81.454951</td>\n",
       "      <td>0.041807</td>\n",
       "      <td>0.015890</td>\n",
       "      <td>1.337583</td>\n",
       "      <td>-35.964199</td>\n",
       "      <td>0.999978</td>\n",
       "      <td>9.075733</td>\n",
       "      <td>1.358422</td>\n",
       "      <td>-40.033938</td>\n",
       "      <td>0.999999</td>\n",
       "      <td>9.178558</td>\n",
       "      <td>P</td>\n",
       "    </tr>\n",
       "  </tbody>\n",
       "</table>\n",
       "</div>"
      ],
      "text/plain": [
       "   A_Indep_Front  A_RollSpeed_Front  A_R2R2W_Front  KM_Front  KM_DEV_Front  \\\n",
       "0       0.390513           0.000601     128.379043  0.041950      0.037106   \n",
       "1       0.348259           0.000509     129.046143  0.041847      0.052308   \n",
       "2       0.407983           0.000620      53.861514  0.041439      0.031839   \n",
       "3       0.386216           0.000631      76.627232  0.041407      0.034478   \n",
       "4       0.373776           0.000921      94.511528  0.041983      0.037544   \n",
       "\n",
       "   A_Indep_Rear  A_RollSpeed_Rear  A_R2R2W_Rear   KM_Rear  KM_DEV_Rear  \\\n",
       "0      0.468861          0.000664     89.051406  0.042561     0.053677   \n",
       "1      0.338558          0.000449     86.579810  0.041813     0.041948   \n",
       "2      0.447917          0.001068     72.697784  0.041715     0.033923   \n",
       "3      0.384400          0.000903     79.220271  0.042135     0.032906   \n",
       "4      0.451047          0.000969     81.454951  0.041807     0.015890   \n",
       "\n",
       "   TR_PWM_SLOP_FRONT  TR_PWM_OFFSET_FRONT  R2_Front  TR_AccuENC_RATIO_FRONT  \\\n",
       "0           1.370314           -37.246261  0.999998                9.075283   \n",
       "1           1.374144           -28.468581  0.999986                9.075158   \n",
       "2           1.335473           -38.879725  0.999897                9.076344   \n",
       "3           1.331818           -32.805212  0.999993                9.075598   \n",
       "4           1.337583           -35.964199  0.999978                9.075733   \n",
       "\n",
       "   TR_PWM_SLOP_REAR  TR_PWM_OFFSET_REAR   R2_Rear  TR_AccuENC_RATIO_REAR  \\\n",
       "0          1.372229          -45.169482  0.999979               9.176037   \n",
       "1          1.370026          -40.577860  0.999983               9.174968   \n",
       "2          1.377100          -38.177445  0.999997               9.179953   \n",
       "3          1.379523          -58.649253  0.999995               9.156949   \n",
       "4          1.358422          -40.033938  0.999999               9.178558   \n",
       "\n",
       "  status  \n",
       "0      P  \n",
       "1      P  \n",
       "2      P  \n",
       "3      P  \n",
       "4      P  "
      ]
     },
     "execution_count": 12,
     "metadata": {},
     "output_type": "execute_result"
    }
   ],
   "source": [
    "df_oversample.head()"
   ]
  },
  {
   "cell_type": "code",
   "execution_count": 13,
   "metadata": {},
   "outputs": [
    {
     "data": {
      "text/plain": [
       "(4628, 19)"
      ]
     },
     "execution_count": 13,
     "metadata": {},
     "output_type": "execute_result"
    }
   ],
   "source": [
    "df_oversample.shape"
   ]
  },
  {
   "cell_type": "markdown",
   "metadata": {},
   "source": [
    "### Separating train set into X and y"
   ]
  },
  {
   "cell_type": "code",
   "execution_count": 15,
   "metadata": {},
   "outputs": [],
   "source": [
    "X_over = df_oversample.drop('status', axis=1)\n",
    "y_over = df_oversample.status"
   ]
  },
  {
   "cell_type": "markdown",
   "metadata": {},
   "source": [
    "### Splitting into train and test"
   ]
  },
  {
   "cell_type": "code",
   "execution_count": 20,
   "metadata": {},
   "outputs": [],
   "source": [
    "X_train, X_test, y_train, y_test = train_test_split(X_over, y_over, test_size=0.2, random_state=42)"
   ]
  },
  {
   "cell_type": "markdown",
   "metadata": {},
   "source": [
    "### Running a grid search for parameter selection for a Random Forest Classifier model"
   ]
  },
  {
   "cell_type": "code",
   "execution_count": 28,
   "metadata": {},
   "outputs": [],
   "source": [
    "param_grid = {\n",
    "    'n_estimators': [10,20],\n",
    "    'max_features': ['auto', 'sqrt', 'log2'],\n",
    "    'max_depth': [2, 3, 5]\n",
    "}"
   ]
  },
  {
   "cell_type": "code",
   "execution_count": 29,
   "metadata": {},
   "outputs": [],
   "source": [
    "RFC = RandomForestClassifier(n_jobs=-1)"
   ]
  },
  {
   "cell_type": "code",
   "execution_count": 30,
   "metadata": {},
   "outputs": [],
   "source": [
    "GS = GridSearchCV(RFC, param_grid, cv=5, verbose = 3)"
   ]
  },
  {
   "cell_type": "code",
   "execution_count": null,
   "metadata": {},
   "outputs": [],
   "source": [
    "GS.fit(X_train, y_train)"
   ]
  },
  {
   "cell_type": "code",
   "execution_count": null,
   "metadata": {},
   "outputs": [],
   "source": [
    "GS.best_params_"
   ]
  },
  {
   "cell_type": "code",
   "execution_count": 21,
   "metadata": {},
   "outputs": [],
   "source": [
    "RFC = RandomForestClassifier(max_depth = 5, max_features='auto', n_estimators=1000)"
   ]
  },
  {
   "cell_type": "code",
   "execution_count": 22,
   "metadata": {},
   "outputs": [
    {
     "data": {
      "text/plain": [
       "RandomForestClassifier(bootstrap=True, class_weight=None, criterion='gini',\n",
       "                       max_depth=5, max_features='auto', max_leaf_nodes=None,\n",
       "                       min_impurity_decrease=0.0, min_impurity_split=None,\n",
       "                       min_samples_leaf=1, min_samples_split=2,\n",
       "                       min_weight_fraction_leaf=0.0, n_estimators=1000,\n",
       "                       n_jobs=None, oob_score=False, random_state=None,\n",
       "                       verbose=0, warm_start=False)"
      ]
     },
     "execution_count": 22,
     "metadata": {},
     "output_type": "execute_result"
    }
   ],
   "source": [
    "RFC.fit(X_train, y_train)"
   ]
  },
  {
   "cell_type": "code",
   "execution_count": 23,
   "metadata": {},
   "outputs": [],
   "source": [
    "#Prediction of the test dataset:\n",
    "y_train_pred = RFC.predict(X_train)\n",
    "y_pred = RFC.predict(X_test)"
   ]
  },
  {
   "cell_type": "code",
   "execution_count": 24,
   "metadata": {},
   "outputs": [
    {
     "name": "stdout",
     "output_type": "stream",
     "text": [
      "TRAIN MODEL METRICS:\n",
      "The F1 score is: 0.7716767520010936\n",
      "The accuracy is: 0.7722852512155591\n",
      "Confusion matrix:\n"
     ]
    },
    {
     "data": {
      "text/plain": [
       "array([[1535,  335],\n",
       "       [ 508, 1324]])"
      ]
     },
     "execution_count": 24,
     "metadata": {},
     "output_type": "execute_result"
    }
   ],
   "source": [
    "#We check scores with train:\n",
    "f1 = f1_score(y_train, y_train_pred, labels=None, pos_label=1, average='weighted')\n",
    "accuracy = accuracy_score(y_train, y_train_pred)\n",
    "conf = confusion_matrix(y_train, y_train_pred)\n",
    "\n",
    "print ('TRAIN MODEL METRICS:')\n",
    "print('The F1 score is: ' + str(f1))\n",
    "print('The accuracy is: ' + str(accuracy))\n",
    "print('Confusion matrix:')\n",
    "conf"
   ]
  },
  {
   "cell_type": "code",
   "execution_count": 25,
   "metadata": {},
   "outputs": [
    {
     "name": "stdout",
     "output_type": "stream",
     "text": [
      "TEST MODEL METRICS:\n",
      "The F1 score is: 0.7260995417804449\n",
      "The accuracy is: 0.7267818574514039\n",
      "Confusion matrix:\n"
     ]
    },
    {
     "data": {
      "text/plain": [
       "array([[352,  92],\n",
       "       [161, 321]])"
      ]
     },
     "execution_count": 25,
     "metadata": {},
     "output_type": "execute_result"
    }
   ],
   "source": [
    "#We check scores with test:\n",
    "f1 = f1_score(y_test, y_pred, labels=None, pos_label=1, average='weighted')\n",
    "accuracy = accuracy_score(y_test, y_pred)\n",
    "conf = confusion_matrix(y_test, y_pred)\n",
    "\n",
    "print ('TEST MODEL METRICS:')\n",
    "print('The F1 score is: ' + str(f1))\n",
    "print('The accuracy is: ' + str(accuracy))\n",
    "print('Confusion matrix:')\n",
    "conf"
   ]
  },
  {
   "cell_type": "markdown",
   "metadata": {},
   "source": [
    "### Check the metrics with only the selected data:"
   ]
  },
  {
   "cell_type": "code",
   "execution_count": 26,
   "metadata": {},
   "outputs": [],
   "source": [
    "y_pred_real = RFC.predict(X)"
   ]
  },
  {
   "cell_type": "code",
   "execution_count": 27,
   "metadata": {},
   "outputs": [
    {
     "name": "stdout",
     "output_type": "stream",
     "text": [
      "TEST MODEL METRICS:\n",
      "The F1 score is: 0.7527168108714317\n",
      "The accuracy is: 0.7083958020989505\n",
      "Confusion matrix:\n"
     ]
    },
    {
     "data": {
      "text/plain": [
       "array([[ 245,  109],\n",
       "       [ 669, 1645]])"
      ]
     },
     "execution_count": 27,
     "metadata": {},
     "output_type": "execute_result"
    }
   ],
   "source": [
    "#We check scores:\n",
    "f1 = f1_score(y, y_pred_real, labels=None, pos_label=1, average='weighted')\n",
    "accuracy = accuracy_score(y, y_pred_real)\n",
    "conf = confusion_matrix(y, y_pred_real)\n",
    "\n",
    "print ('TEST MODEL METRICS:')\n",
    "print('The F1 score is: ' + str(f1))\n",
    "print('The accuracy is: ' + str(accuracy))\n",
    "print('Confusion matrix:')\n",
    "conf"
   ]
  },
  {
   "cell_type": "markdown",
   "metadata": {},
   "source": [
    "### Final score: 0.78% accuracy of the model."
   ]
  }
 ],
 "metadata": {
  "kernelspec": {
   "display_name": "Python 3",
   "language": "python",
   "name": "python3"
  },
  "language_info": {
   "codemirror_mode": {
    "name": "ipython",
    "version": 3
   },
   "file_extension": ".py",
   "mimetype": "text/x-python",
   "name": "python",
   "nbconvert_exporter": "python",
   "pygments_lexer": "ipython3",
   "version": "3.6.8"
  }
 },
 "nbformat": 4,
 "nbformat_minor": 2
}
