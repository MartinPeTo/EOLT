{
 "cells": [
  {
   "cell_type": "code",
   "execution_count": 1,
   "metadata": {},
   "outputs": [],
   "source": [
    "import pandas as pd\n",
    "import numpy as np"
   ]
  },
  {
   "cell_type": "markdown",
   "metadata": {},
   "source": [
    "### RW"
   ]
  },
  {
   "cell_type": "code",
   "execution_count": 2,
   "metadata": {},
   "outputs": [],
   "source": [
    "rw = pd.read_csv('../Data/RW.csv')"
   ]
  },
  {
   "cell_type": "code",
   "execution_count": 3,
   "metadata": {},
   "outputs": [],
   "source": [
    "#For this dataset we have to drop the following columns:\n",
    "drop_col = ['day','time','datetime','A_R2R2W_RollSpeed_Front','A_R2R2W_RollSpeed_Rear']\n",
    "rw.drop(drop_col, axis = 1, inplace = True)"
   ]
  },
  {
   "cell_type": "markdown",
   "metadata": {},
   "source": [
    "### TR"
   ]
  },
  {
   "cell_type": "code",
   "execution_count": 4,
   "metadata": {},
   "outputs": [],
   "source": [
    "tr = pd.read_csv('../Data/TR.csv')"
   ]
  },
  {
   "cell_type": "code",
   "execution_count": 5,
   "metadata": {},
   "outputs": [],
   "source": [
    "#For this dataset we have to drop the following columns:\n",
    "drop_col = ['day','time','datetime']\n",
    "tr.drop(drop_col, axis = 1, inplace = True)"
   ]
  },
  {
   "cell_type": "markdown",
   "metadata": {},
   "source": [
    "### BT"
   ]
  },
  {
   "cell_type": "code",
   "execution_count": 6,
   "metadata": {},
   "outputs": [],
   "source": [
    "bt = pd.read_csv('../Data/BT.csv')\n",
    "bt2 = pd.read_csv('../Data/BT2.csv')"
   ]
  },
  {
   "cell_type": "code",
   "execution_count": 7,
   "metadata": {},
   "outputs": [],
   "source": [
    "#For this dataset we only have to keep the pass column:\n",
    "bt = bt[['SN','status']]\n",
    "bt2 = bt2[['SN','status']]"
   ]
  },
  {
   "cell_type": "code",
   "execution_count": 8,
   "metadata": {},
   "outputs": [],
   "source": [
    "#We concat both dataframes and check duplicates:\n",
    "\n",
    "bt_full = pd.concat([bt, bt2])"
   ]
  },
  {
   "cell_type": "code",
   "execution_count": 9,
   "metadata": {},
   "outputs": [],
   "source": [
    "bt_full.drop_duplicates(keep=False,inplace=True) "
   ]
  },
  {
   "cell_type": "code",
   "execution_count": 10,
   "metadata": {
    "scrolled": false
   },
   "outputs": [
    {
     "data": {
      "text/plain": [
       "(13871, 2)"
      ]
     },
     "execution_count": 10,
     "metadata": {},
     "output_type": "execute_result"
    }
   ],
   "source": [
    "bt_full.shape"
   ]
  },
  {
   "cell_type": "code",
   "execution_count": 11,
   "metadata": {},
   "outputs": [
    {
     "data": {
      "text/html": [
       "<div>\n",
       "<style scoped>\n",
       "    .dataframe tbody tr th:only-of-type {\n",
       "        vertical-align: middle;\n",
       "    }\n",
       "\n",
       "    .dataframe tbody tr th {\n",
       "        vertical-align: top;\n",
       "    }\n",
       "\n",
       "    .dataframe thead th {\n",
       "        text-align: right;\n",
       "    }\n",
       "</style>\n",
       "<table border=\"1\" class=\"dataframe\">\n",
       "  <thead>\n",
       "    <tr style=\"text-align: right;\">\n",
       "      <th></th>\n",
       "      <th>SN</th>\n",
       "      <th>status</th>\n",
       "    </tr>\n",
       "  </thead>\n",
       "  <tbody>\n",
       "    <tr>\n",
       "      <th>0</th>\n",
       "      <td>DRW301500191</td>\n",
       "      <td>F</td>\n",
       "    </tr>\n",
       "    <tr>\n",
       "      <th>1</th>\n",
       "      <td>DRW301500161</td>\n",
       "      <td>P</td>\n",
       "    </tr>\n",
       "    <tr>\n",
       "      <th>2</th>\n",
       "      <td>DRW301500171</td>\n",
       "      <td>P</td>\n",
       "    </tr>\n",
       "    <tr>\n",
       "      <th>3</th>\n",
       "      <td>DRW301500221</td>\n",
       "      <td>P</td>\n",
       "    </tr>\n",
       "    <tr>\n",
       "      <th>4</th>\n",
       "      <td>DRW301500231</td>\n",
       "      <td>P</td>\n",
       "    </tr>\n",
       "    <tr>\n",
       "      <th>5</th>\n",
       "      <td>DRW301500251</td>\n",
       "      <td>P</td>\n",
       "    </tr>\n",
       "    <tr>\n",
       "      <th>6</th>\n",
       "      <td>DRW301500261</td>\n",
       "      <td>P</td>\n",
       "    </tr>\n",
       "    <tr>\n",
       "      <th>7</th>\n",
       "      <td>DRW301500291</td>\n",
       "      <td>P</td>\n",
       "    </tr>\n",
       "    <tr>\n",
       "      <th>8</th>\n",
       "      <td>DRW301500301</td>\n",
       "      <td>P</td>\n",
       "    </tr>\n",
       "    <tr>\n",
       "      <th>9</th>\n",
       "      <td>DRW301500311</td>\n",
       "      <td>P</td>\n",
       "    </tr>\n",
       "    <tr>\n",
       "      <th>10</th>\n",
       "      <td>DRW301500321</td>\n",
       "      <td>P</td>\n",
       "    </tr>\n",
       "    <tr>\n",
       "      <th>11</th>\n",
       "      <td>DRW301500331</td>\n",
       "      <td>P</td>\n",
       "    </tr>\n",
       "    <tr>\n",
       "      <th>12</th>\n",
       "      <td>DRW301500341</td>\n",
       "      <td>P</td>\n",
       "    </tr>\n",
       "    <tr>\n",
       "      <th>13</th>\n",
       "      <td>DRW301500351</td>\n",
       "      <td>F</td>\n",
       "    </tr>\n",
       "    <tr>\n",
       "      <th>14</th>\n",
       "      <td>DRW301500361</td>\n",
       "      <td>P</td>\n",
       "    </tr>\n",
       "    <tr>\n",
       "      <th>15</th>\n",
       "      <td>DRW301500391</td>\n",
       "      <td>P</td>\n",
       "    </tr>\n",
       "    <tr>\n",
       "      <th>16</th>\n",
       "      <td>DRW301500411</td>\n",
       "      <td>P</td>\n",
       "    </tr>\n",
       "    <tr>\n",
       "      <th>17</th>\n",
       "      <td>DRW301500421</td>\n",
       "      <td>P</td>\n",
       "    </tr>\n",
       "    <tr>\n",
       "      <th>18</th>\n",
       "      <td>DRW301500431</td>\n",
       "      <td>P</td>\n",
       "    </tr>\n",
       "    <tr>\n",
       "      <th>19</th>\n",
       "      <td>DRW301500441</td>\n",
       "      <td>P</td>\n",
       "    </tr>\n",
       "  </tbody>\n",
       "</table>\n",
       "</div>"
      ],
      "text/plain": [
       "              SN status\n",
       "0   DRW301500191      F\n",
       "1   DRW301500161      P\n",
       "2   DRW301500171      P\n",
       "3   DRW301500221      P\n",
       "4   DRW301500231      P\n",
       "5   DRW301500251      P\n",
       "6   DRW301500261      P\n",
       "7   DRW301500291      P\n",
       "8   DRW301500301      P\n",
       "9   DRW301500311      P\n",
       "10  DRW301500321      P\n",
       "11  DRW301500331      P\n",
       "12  DRW301500341      P\n",
       "13  DRW301500351      F\n",
       "14  DRW301500361      P\n",
       "15  DRW301500391      P\n",
       "16  DRW301500411      P\n",
       "17  DRW301500421      P\n",
       "18  DRW301500431      P\n",
       "19  DRW301500441      P"
      ]
     },
     "execution_count": 11,
     "metadata": {},
     "output_type": "execute_result"
    }
   ],
   "source": [
    "bt_full.head(20)"
   ]
  },
  {
   "cell_type": "code",
   "execution_count": 12,
   "metadata": {},
   "outputs": [],
   "source": [
    "#There are 30 SN with status P and F. We delete de F ones.\n",
    "f_bt = list(bt_full[bt_full['status']=='F'].SN.unique())\n",
    "p_sn = list(bt_full[bt_full['status']=='P'].SN.unique())\n",
    "drop_sn = list(set(f_bt).intersection(p_sn))\n",
    "\n",
    "#Now, we drop these rows:\n",
    "bt_1 = bt_full.loc[~bt_full['SN'].isin(drop_sn)]\n",
    "bt_2 = bt_full.loc[bt_full['SN'].isin(drop_sn)]\n",
    "bt_2 = bt_2[bt_2['status']=='P']\n",
    "\n",
    "bt_full = pd.concat([bt_1,bt_2])"
   ]
  },
  {
   "cell_type": "code",
   "execution_count": 13,
   "metadata": {
    "scrolled": false
   },
   "outputs": [
    {
     "data": {
      "text/plain": [
       "13841"
      ]
     },
     "execution_count": 13,
     "metadata": {},
     "output_type": "execute_result"
    }
   ],
   "source": [
    "len(bt_full.SN.unique())"
   ]
  },
  {
   "cell_type": "markdown",
   "metadata": {},
   "source": [
    "### Merge all dataframes together:"
   ]
  },
  {
   "cell_type": "code",
   "execution_count": 14,
   "metadata": {
    "scrolled": false
   },
   "outputs": [
    {
     "name": "stdout",
     "output_type": "stream",
     "text": [
      "3995\n",
      "3996\n",
      "13841\n"
     ]
    }
   ],
   "source": [
    "#SN list:\n",
    "\n",
    "rw_sn = list(rw.SN.unique())\n",
    "tr_sn = list(tr.SN.unique())\n",
    "bt_sn = list(bt_full.SN.unique())\n",
    "print(len(rw_sn))\n",
    "print(len(tr_sn))\n",
    "print(len(bt_sn))"
   ]
  },
  {
   "cell_type": "code",
   "execution_count": 15,
   "metadata": {},
   "outputs": [],
   "source": [
    "#We need to keep the SN common in all lists:\n",
    "final_sn = list(set(rw_sn).intersection(bt_sn))\n",
    "final_sn = list(set(final_sn).intersection(tr_sn))"
   ]
  },
  {
   "cell_type": "code",
   "execution_count": 16,
   "metadata": {},
   "outputs": [
    {
     "name": "stdout",
     "output_type": "stream",
     "text": [
      "2668\n"
     ]
    }
   ],
   "source": [
    "#The final numer of data is:\n",
    "print(len(final_sn))"
   ]
  },
  {
   "cell_type": "code",
   "execution_count": 17,
   "metadata": {},
   "outputs": [],
   "source": [
    "#We filter all dataframes by SN and merge them:\n",
    "rw_final = rw.loc[rw['SN'].isin(final_sn)]\n",
    "tr_final = tr.loc[tr['SN'].isin(final_sn)]\n",
    "bt_final = bt_full.loc[bt_full['SN'].isin(final_sn)]\n",
    "\n",
    "#Merge:\n",
    "model_bt = pd.merge(rw_final, tr_final, on='SN')\n",
    "model_bt = pd.merge(model_bt, bt_final, on='SN')"
   ]
  },
  {
   "cell_type": "code",
   "execution_count": 18,
   "metadata": {},
   "outputs": [
    {
     "data": {
      "text/plain": [
       "(2668, 20)"
      ]
     },
     "execution_count": 18,
     "metadata": {},
     "output_type": "execute_result"
    }
   ],
   "source": [
    "model_bt.shape"
   ]
  },
  {
   "cell_type": "code",
   "execution_count": 19,
   "metadata": {
    "scrolled": true
   },
   "outputs": [
    {
     "data": {
      "text/html": [
       "<div>\n",
       "<style scoped>\n",
       "    .dataframe tbody tr th:only-of-type {\n",
       "        vertical-align: middle;\n",
       "    }\n",
       "\n",
       "    .dataframe tbody tr th {\n",
       "        vertical-align: top;\n",
       "    }\n",
       "\n",
       "    .dataframe thead th {\n",
       "        text-align: right;\n",
       "    }\n",
       "</style>\n",
       "<table border=\"1\" class=\"dataframe\">\n",
       "  <thead>\n",
       "    <tr style=\"text-align: right;\">\n",
       "      <th></th>\n",
       "      <th>SN</th>\n",
       "      <th>A_Indep_Front</th>\n",
       "      <th>A_RollSpeed_Front</th>\n",
       "      <th>A_R2R2W_Front</th>\n",
       "      <th>KM_Front</th>\n",
       "      <th>KM_DEV_Front</th>\n",
       "      <th>A_Indep_Rear</th>\n",
       "      <th>A_RollSpeed_Rear</th>\n",
       "      <th>A_R2R2W_Rear</th>\n",
       "      <th>KM_Rear</th>\n",
       "      <th>KM_DEV_Rear</th>\n",
       "      <th>TR_PWM_SLOP_FRONT</th>\n",
       "      <th>TR_PWM_OFFSET_FRONT</th>\n",
       "      <th>R2_Front</th>\n",
       "      <th>TR_AccuENC_RATIO_FRONT</th>\n",
       "      <th>TR_PWM_SLOP_REAR</th>\n",
       "      <th>TR_PWM_OFFSET_REAR</th>\n",
       "      <th>R2_Rear</th>\n",
       "      <th>TR_AccuENC_RATIO_REAR</th>\n",
       "      <th>status</th>\n",
       "    </tr>\n",
       "  </thead>\n",
       "  <tbody>\n",
       "    <tr>\n",
       "      <th>0</th>\n",
       "      <td>DRW091810461</td>\n",
       "      <td>0.390513</td>\n",
       "      <td>0.000601</td>\n",
       "      <td>128.379043</td>\n",
       "      <td>0.041950</td>\n",
       "      <td>0.037106</td>\n",
       "      <td>0.468861</td>\n",
       "      <td>0.000664</td>\n",
       "      <td>89.051406</td>\n",
       "      <td>0.042561</td>\n",
       "      <td>0.053677</td>\n",
       "      <td>1.370314</td>\n",
       "      <td>-37.246261</td>\n",
       "      <td>0.999998</td>\n",
       "      <td>9.075283</td>\n",
       "      <td>1.372229</td>\n",
       "      <td>-45.169482</td>\n",
       "      <td>0.999979</td>\n",
       "      <td>9.176037</td>\n",
       "      <td>P</td>\n",
       "    </tr>\n",
       "    <tr>\n",
       "      <th>1</th>\n",
       "      <td>DRW091810471</td>\n",
       "      <td>0.348259</td>\n",
       "      <td>0.000509</td>\n",
       "      <td>129.046143</td>\n",
       "      <td>0.041847</td>\n",
       "      <td>0.052308</td>\n",
       "      <td>0.338558</td>\n",
       "      <td>0.000449</td>\n",
       "      <td>86.579810</td>\n",
       "      <td>0.041813</td>\n",
       "      <td>0.041948</td>\n",
       "      <td>1.374144</td>\n",
       "      <td>-28.468581</td>\n",
       "      <td>0.999986</td>\n",
       "      <td>9.075158</td>\n",
       "      <td>1.370026</td>\n",
       "      <td>-40.577860</td>\n",
       "      <td>0.999983</td>\n",
       "      <td>9.174968</td>\n",
       "      <td>P</td>\n",
       "    </tr>\n",
       "    <tr>\n",
       "      <th>2</th>\n",
       "      <td>DRW391710071</td>\n",
       "      <td>0.407983</td>\n",
       "      <td>0.000620</td>\n",
       "      <td>53.861514</td>\n",
       "      <td>0.041439</td>\n",
       "      <td>0.031839</td>\n",
       "      <td>0.447917</td>\n",
       "      <td>0.001068</td>\n",
       "      <td>72.697784</td>\n",
       "      <td>0.041715</td>\n",
       "      <td>0.033923</td>\n",
       "      <td>1.335473</td>\n",
       "      <td>-38.879725</td>\n",
       "      <td>0.999897</td>\n",
       "      <td>9.076344</td>\n",
       "      <td>1.377100</td>\n",
       "      <td>-38.177445</td>\n",
       "      <td>0.999997</td>\n",
       "      <td>9.179953</td>\n",
       "      <td>P</td>\n",
       "    </tr>\n",
       "    <tr>\n",
       "      <th>3</th>\n",
       "      <td>DRW391700001</td>\n",
       "      <td>0.386216</td>\n",
       "      <td>0.000631</td>\n",
       "      <td>76.627232</td>\n",
       "      <td>0.041407</td>\n",
       "      <td>0.034478</td>\n",
       "      <td>0.384400</td>\n",
       "      <td>0.000903</td>\n",
       "      <td>79.220271</td>\n",
       "      <td>0.042135</td>\n",
       "      <td>0.032906</td>\n",
       "      <td>1.331818</td>\n",
       "      <td>-32.805212</td>\n",
       "      <td>0.999993</td>\n",
       "      <td>9.075598</td>\n",
       "      <td>1.379523</td>\n",
       "      <td>-58.649253</td>\n",
       "      <td>0.999995</td>\n",
       "      <td>9.156949</td>\n",
       "      <td>P</td>\n",
       "    </tr>\n",
       "    <tr>\n",
       "      <th>4</th>\n",
       "      <td>DRW391710021</td>\n",
       "      <td>0.373776</td>\n",
       "      <td>0.000921</td>\n",
       "      <td>94.511528</td>\n",
       "      <td>0.041983</td>\n",
       "      <td>0.037544</td>\n",
       "      <td>0.451047</td>\n",
       "      <td>0.000969</td>\n",
       "      <td>81.454951</td>\n",
       "      <td>0.041807</td>\n",
       "      <td>0.015890</td>\n",
       "      <td>1.337583</td>\n",
       "      <td>-35.964199</td>\n",
       "      <td>0.999978</td>\n",
       "      <td>9.075733</td>\n",
       "      <td>1.358422</td>\n",
       "      <td>-40.033938</td>\n",
       "      <td>0.999999</td>\n",
       "      <td>9.178558</td>\n",
       "      <td>P</td>\n",
       "    </tr>\n",
       "  </tbody>\n",
       "</table>\n",
       "</div>"
      ],
      "text/plain": [
       "             SN  A_Indep_Front  A_RollSpeed_Front  A_R2R2W_Front  KM_Front  \\\n",
       "0  DRW091810461       0.390513           0.000601     128.379043  0.041950   \n",
       "1  DRW091810471       0.348259           0.000509     129.046143  0.041847   \n",
       "2  DRW391710071       0.407983           0.000620      53.861514  0.041439   \n",
       "3  DRW391700001       0.386216           0.000631      76.627232  0.041407   \n",
       "4  DRW391710021       0.373776           0.000921      94.511528  0.041983   \n",
       "\n",
       "   KM_DEV_Front  A_Indep_Rear  A_RollSpeed_Rear  A_R2R2W_Rear   KM_Rear  \\\n",
       "0      0.037106      0.468861          0.000664     89.051406  0.042561   \n",
       "1      0.052308      0.338558          0.000449     86.579810  0.041813   \n",
       "2      0.031839      0.447917          0.001068     72.697784  0.041715   \n",
       "3      0.034478      0.384400          0.000903     79.220271  0.042135   \n",
       "4      0.037544      0.451047          0.000969     81.454951  0.041807   \n",
       "\n",
       "   KM_DEV_Rear  TR_PWM_SLOP_FRONT  TR_PWM_OFFSET_FRONT  R2_Front  \\\n",
       "0     0.053677           1.370314           -37.246261  0.999998   \n",
       "1     0.041948           1.374144           -28.468581  0.999986   \n",
       "2     0.033923           1.335473           -38.879725  0.999897   \n",
       "3     0.032906           1.331818           -32.805212  0.999993   \n",
       "4     0.015890           1.337583           -35.964199  0.999978   \n",
       "\n",
       "   TR_AccuENC_RATIO_FRONT  TR_PWM_SLOP_REAR  TR_PWM_OFFSET_REAR   R2_Rear  \\\n",
       "0                9.075283          1.372229          -45.169482  0.999979   \n",
       "1                9.075158          1.370026          -40.577860  0.999983   \n",
       "2                9.076344          1.377100          -38.177445  0.999997   \n",
       "3                9.075598          1.379523          -58.649253  0.999995   \n",
       "4                9.075733          1.358422          -40.033938  0.999999   \n",
       "\n",
       "   TR_AccuENC_RATIO_REAR status  \n",
       "0               9.176037      P  \n",
       "1               9.174968      P  \n",
       "2               9.179953      P  \n",
       "3               9.156949      P  \n",
       "4               9.178558      P  "
      ]
     },
     "execution_count": 19,
     "metadata": {},
     "output_type": "execute_result"
    }
   ],
   "source": [
    "model_bt.head()"
   ]
  },
  {
   "cell_type": "code",
   "execution_count": 20,
   "metadata": {},
   "outputs": [],
   "source": [
    "model_bt.to_csv('../Data/final.csv', index=False)"
   ]
  },
  {
   "cell_type": "markdown",
   "metadata": {},
   "source": [
    "### Target variable EDA"
   ]
  },
  {
   "cell_type": "code",
   "execution_count": 21,
   "metadata": {},
   "outputs": [
    {
     "data": {
      "text/plain": [
       "P    2314\n",
       "F     354\n",
       "Name: status, dtype: int64"
      ]
     },
     "execution_count": 21,
     "metadata": {},
     "output_type": "execute_result"
    }
   ],
   "source": [
    "#We check the number of each \"Status\" (Pass or Fail)\n",
    "model_bt.status.value_counts()"
   ]
  },
  {
   "cell_type": "code",
   "execution_count": 22,
   "metadata": {},
   "outputs": [
    {
     "data": {
      "text/plain": [
       "0.8673163418290855"
      ]
     },
     "execution_count": 22,
     "metadata": {},
     "output_type": "execute_result"
    }
   ],
   "source": [
    "P = 2314/(2314+354)\n",
    "P"
   ]
  },
  {
   "cell_type": "code",
   "execution_count": 23,
   "metadata": {},
   "outputs": [
    {
     "data": {
      "text/plain": [
       "0.13268365817091454"
      ]
     },
     "execution_count": 23,
     "metadata": {},
     "output_type": "execute_result"
    }
   ],
   "source": [
    "F = 354/(2314+354)\n",
    "F"
   ]
  },
  {
   "cell_type": "code",
   "execution_count": 24,
   "metadata": {},
   "outputs": [],
   "source": [
    "#There is a 86,7% of PASS results and a 13.3 FAIL results. We need to balance the classes."
   ]
  },
  {
   "cell_type": "markdown",
   "metadata": {},
   "source": [
    "### Oversampling with SMOTE"
   ]
  },
  {
   "cell_type": "code",
   "execution_count": 26,
   "metadata": {},
   "outputs": [],
   "source": [
    "# https://imbalanced-learn.readthedocs.io/en/stable/over_sampling.html#smote-variants"
   ]
  },
  {
   "cell_type": "code",
   "execution_count": 25,
   "metadata": {
    "scrolled": true
   },
   "outputs": [
    {
     "name": "stderr",
     "output_type": "stream",
     "text": [
      "Using TensorFlow backend.\n",
      "/home/martin/.local/lib/python3.6/site-packages/tensorflow/python/framework/dtypes.py:516: FutureWarning: Passing (type, 1) or '1type' as a synonym of type is deprecated; in a future version of numpy, it will be understood as (type, (1,)) / '(1,)type'.\n",
      "  _np_qint8 = np.dtype([(\"qint8\", np.int8, 1)])\n",
      "/home/martin/.local/lib/python3.6/site-packages/tensorflow/python/framework/dtypes.py:517: FutureWarning: Passing (type, 1) or '1type' as a synonym of type is deprecated; in a future version of numpy, it will be understood as (type, (1,)) / '(1,)type'.\n",
      "  _np_quint8 = np.dtype([(\"quint8\", np.uint8, 1)])\n",
      "/home/martin/.local/lib/python3.6/site-packages/tensorflow/python/framework/dtypes.py:518: FutureWarning: Passing (type, 1) or '1type' as a synonym of type is deprecated; in a future version of numpy, it will be understood as (type, (1,)) / '(1,)type'.\n",
      "  _np_qint16 = np.dtype([(\"qint16\", np.int16, 1)])\n",
      "/home/martin/.local/lib/python3.6/site-packages/tensorflow/python/framework/dtypes.py:519: FutureWarning: Passing (type, 1) or '1type' as a synonym of type is deprecated; in a future version of numpy, it will be understood as (type, (1,)) / '(1,)type'.\n",
      "  _np_quint16 = np.dtype([(\"quint16\", np.uint16, 1)])\n",
      "/home/martin/.local/lib/python3.6/site-packages/tensorflow/python/framework/dtypes.py:520: FutureWarning: Passing (type, 1) or '1type' as a synonym of type is deprecated; in a future version of numpy, it will be understood as (type, (1,)) / '(1,)type'.\n",
      "  _np_qint32 = np.dtype([(\"qint32\", np.int32, 1)])\n",
      "/home/martin/.local/lib/python3.6/site-packages/tensorflow/python/framework/dtypes.py:525: FutureWarning: Passing (type, 1) or '1type' as a synonym of type is deprecated; in a future version of numpy, it will be understood as (type, (1,)) / '(1,)type'.\n",
      "  np_resource = np.dtype([(\"resource\", np.ubyte, 1)])\n",
      "/home/martin/.local/lib/python3.6/site-packages/tensorboard/compat/tensorflow_stub/dtypes.py:541: FutureWarning: Passing (type, 1) or '1type' as a synonym of type is deprecated; in a future version of numpy, it will be understood as (type, (1,)) / '(1,)type'.\n",
      "  _np_qint8 = np.dtype([(\"qint8\", np.int8, 1)])\n",
      "/home/martin/.local/lib/python3.6/site-packages/tensorboard/compat/tensorflow_stub/dtypes.py:542: FutureWarning: Passing (type, 1) or '1type' as a synonym of type is deprecated; in a future version of numpy, it will be understood as (type, (1,)) / '(1,)type'.\n",
      "  _np_quint8 = np.dtype([(\"quint8\", np.uint8, 1)])\n",
      "/home/martin/.local/lib/python3.6/site-packages/tensorboard/compat/tensorflow_stub/dtypes.py:543: FutureWarning: Passing (type, 1) or '1type' as a synonym of type is deprecated; in a future version of numpy, it will be understood as (type, (1,)) / '(1,)type'.\n",
      "  _np_qint16 = np.dtype([(\"qint16\", np.int16, 1)])\n",
      "/home/martin/.local/lib/python3.6/site-packages/tensorboard/compat/tensorflow_stub/dtypes.py:544: FutureWarning: Passing (type, 1) or '1type' as a synonym of type is deprecated; in a future version of numpy, it will be understood as (type, (1,)) / '(1,)type'.\n",
      "  _np_quint16 = np.dtype([(\"quint16\", np.uint16, 1)])\n",
      "/home/martin/.local/lib/python3.6/site-packages/tensorboard/compat/tensorflow_stub/dtypes.py:545: FutureWarning: Passing (type, 1) or '1type' as a synonym of type is deprecated; in a future version of numpy, it will be understood as (type, (1,)) / '(1,)type'.\n",
      "  _np_qint32 = np.dtype([(\"qint32\", np.int32, 1)])\n",
      "/home/martin/.local/lib/python3.6/site-packages/tensorboard/compat/tensorflow_stub/dtypes.py:550: FutureWarning: Passing (type, 1) or '1type' as a synonym of type is deprecated; in a future version of numpy, it will be understood as (type, (1,)) / '(1,)type'.\n",
      "  np_resource = np.dtype([(\"resource\", np.ubyte, 1)])\n"
     ]
    }
   ],
   "source": [
    "#Import\n",
    "from imblearn.over_sampling import SMOTENC"
   ]
  },
  {
   "cell_type": "code",
   "execution_count": 29,
   "metadata": {},
   "outputs": [],
   "source": [
    "#Import\n",
    "from imblearn.over_sampling import BorderlineSMOTE"
   ]
  },
  {
   "cell_type": "code",
   "execution_count": 31,
   "metadata": {},
   "outputs": [],
   "source": [
    "#First we need to create X and y:\n",
    "X = model_bt.drop(['SN','status'], axis=1)\n",
    "y = model_bt.status"
   ]
  },
  {
   "cell_type": "code",
   "execution_count": 32,
   "metadata": {},
   "outputs": [],
   "source": [
    "X_resampled, y_resampled = BorderlineSMOTE().fit_resample(X, y)"
   ]
  },
  {
   "cell_type": "code",
   "execution_count": 41,
   "metadata": {},
   "outputs": [
    {
     "data": {
      "text/plain": [
       "4628"
      ]
     },
     "execution_count": 41,
     "metadata": {},
     "output_type": "execute_result"
    }
   ],
   "source": [
    "len(X_resampled)"
   ]
  },
  {
   "cell_type": "code",
   "execution_count": 33,
   "metadata": {},
   "outputs": [
    {
     "data": {
      "text/plain": [
       "4628"
      ]
     },
     "execution_count": 33,
     "metadata": {},
     "output_type": "execute_result"
    }
   ],
   "source": [
    "len(y_resampled)"
   ]
  },
  {
   "cell_type": "code",
   "execution_count": 40,
   "metadata": {},
   "outputs": [
    {
     "name": "stdout",
     "output_type": "stream",
     "text": [
      "Frequency of PASS/FAIL values:\n",
      "[['F' 'P']\n",
      " [2314 2314]]\n"
     ]
    }
   ],
   "source": [
    "unique_elements, counts_elements = np.unique(y_resampled, return_counts=True)\n",
    "print(\"Frequency of PASS/FAIL values:\")\n",
    "print(np.asarray((unique_elements, counts_elements)))"
   ]
  },
  {
   "cell_type": "code",
   "execution_count": 52,
   "metadata": {},
   "outputs": [],
   "source": [
    "#We create a new dataframe with the resampled data:\n",
    "model_bt_oversample = pd.DataFrame(data=X_resampled, columns=X.columns)"
   ]
  },
  {
   "cell_type": "code",
   "execution_count": 54,
   "metadata": {},
   "outputs": [],
   "source": [
    "#Adding the Y_resampled:\n",
    "model_bt_oversample['status'] = y_resampled"
   ]
  },
  {
   "cell_type": "code",
   "execution_count": 55,
   "metadata": {},
   "outputs": [
    {
     "data": {
      "text/html": [
       "<div>\n",
       "<style scoped>\n",
       "    .dataframe tbody tr th:only-of-type {\n",
       "        vertical-align: middle;\n",
       "    }\n",
       "\n",
       "    .dataframe tbody tr th {\n",
       "        vertical-align: top;\n",
       "    }\n",
       "\n",
       "    .dataframe thead th {\n",
       "        text-align: right;\n",
       "    }\n",
       "</style>\n",
       "<table border=\"1\" class=\"dataframe\">\n",
       "  <thead>\n",
       "    <tr style=\"text-align: right;\">\n",
       "      <th></th>\n",
       "      <th>A_Indep_Front</th>\n",
       "      <th>A_RollSpeed_Front</th>\n",
       "      <th>A_R2R2W_Front</th>\n",
       "      <th>KM_Front</th>\n",
       "      <th>KM_DEV_Front</th>\n",
       "      <th>A_Indep_Rear</th>\n",
       "      <th>A_RollSpeed_Rear</th>\n",
       "      <th>A_R2R2W_Rear</th>\n",
       "      <th>KM_Rear</th>\n",
       "      <th>KM_DEV_Rear</th>\n",
       "      <th>TR_PWM_SLOP_FRONT</th>\n",
       "      <th>TR_PWM_OFFSET_FRONT</th>\n",
       "      <th>R2_Front</th>\n",
       "      <th>TR_AccuENC_RATIO_FRONT</th>\n",
       "      <th>TR_PWM_SLOP_REAR</th>\n",
       "      <th>TR_PWM_OFFSET_REAR</th>\n",
       "      <th>R2_Rear</th>\n",
       "      <th>TR_AccuENC_RATIO_REAR</th>\n",
       "      <th>status</th>\n",
       "    </tr>\n",
       "  </thead>\n",
       "  <tbody>\n",
       "    <tr>\n",
       "      <th>0</th>\n",
       "      <td>0.390513</td>\n",
       "      <td>0.000601</td>\n",
       "      <td>128.379043</td>\n",
       "      <td>0.041950</td>\n",
       "      <td>0.037106</td>\n",
       "      <td>0.468861</td>\n",
       "      <td>0.000664</td>\n",
       "      <td>89.051406</td>\n",
       "      <td>0.042561</td>\n",
       "      <td>0.053677</td>\n",
       "      <td>1.370314</td>\n",
       "      <td>-37.246261</td>\n",
       "      <td>0.999998</td>\n",
       "      <td>9.075283</td>\n",
       "      <td>1.372229</td>\n",
       "      <td>-45.169482</td>\n",
       "      <td>0.999979</td>\n",
       "      <td>9.176037</td>\n",
       "      <td>P</td>\n",
       "    </tr>\n",
       "    <tr>\n",
       "      <th>1</th>\n",
       "      <td>0.348259</td>\n",
       "      <td>0.000509</td>\n",
       "      <td>129.046143</td>\n",
       "      <td>0.041847</td>\n",
       "      <td>0.052308</td>\n",
       "      <td>0.338558</td>\n",
       "      <td>0.000449</td>\n",
       "      <td>86.579810</td>\n",
       "      <td>0.041813</td>\n",
       "      <td>0.041948</td>\n",
       "      <td>1.374144</td>\n",
       "      <td>-28.468581</td>\n",
       "      <td>0.999986</td>\n",
       "      <td>9.075158</td>\n",
       "      <td>1.370026</td>\n",
       "      <td>-40.577860</td>\n",
       "      <td>0.999983</td>\n",
       "      <td>9.174968</td>\n",
       "      <td>P</td>\n",
       "    </tr>\n",
       "    <tr>\n",
       "      <th>2</th>\n",
       "      <td>0.407983</td>\n",
       "      <td>0.000620</td>\n",
       "      <td>53.861514</td>\n",
       "      <td>0.041439</td>\n",
       "      <td>0.031839</td>\n",
       "      <td>0.447917</td>\n",
       "      <td>0.001068</td>\n",
       "      <td>72.697784</td>\n",
       "      <td>0.041715</td>\n",
       "      <td>0.033923</td>\n",
       "      <td>1.335473</td>\n",
       "      <td>-38.879725</td>\n",
       "      <td>0.999897</td>\n",
       "      <td>9.076344</td>\n",
       "      <td>1.377100</td>\n",
       "      <td>-38.177445</td>\n",
       "      <td>0.999997</td>\n",
       "      <td>9.179953</td>\n",
       "      <td>P</td>\n",
       "    </tr>\n",
       "    <tr>\n",
       "      <th>3</th>\n",
       "      <td>0.386216</td>\n",
       "      <td>0.000631</td>\n",
       "      <td>76.627232</td>\n",
       "      <td>0.041407</td>\n",
       "      <td>0.034478</td>\n",
       "      <td>0.384400</td>\n",
       "      <td>0.000903</td>\n",
       "      <td>79.220271</td>\n",
       "      <td>0.042135</td>\n",
       "      <td>0.032906</td>\n",
       "      <td>1.331818</td>\n",
       "      <td>-32.805212</td>\n",
       "      <td>0.999993</td>\n",
       "      <td>9.075598</td>\n",
       "      <td>1.379523</td>\n",
       "      <td>-58.649253</td>\n",
       "      <td>0.999995</td>\n",
       "      <td>9.156949</td>\n",
       "      <td>P</td>\n",
       "    </tr>\n",
       "    <tr>\n",
       "      <th>4</th>\n",
       "      <td>0.373776</td>\n",
       "      <td>0.000921</td>\n",
       "      <td>94.511528</td>\n",
       "      <td>0.041983</td>\n",
       "      <td>0.037544</td>\n",
       "      <td>0.451047</td>\n",
       "      <td>0.000969</td>\n",
       "      <td>81.454951</td>\n",
       "      <td>0.041807</td>\n",
       "      <td>0.015890</td>\n",
       "      <td>1.337583</td>\n",
       "      <td>-35.964199</td>\n",
       "      <td>0.999978</td>\n",
       "      <td>9.075733</td>\n",
       "      <td>1.358422</td>\n",
       "      <td>-40.033938</td>\n",
       "      <td>0.999999</td>\n",
       "      <td>9.178558</td>\n",
       "      <td>P</td>\n",
       "    </tr>\n",
       "  </tbody>\n",
       "</table>\n",
       "</div>"
      ],
      "text/plain": [
       "   A_Indep_Front  A_RollSpeed_Front  A_R2R2W_Front  KM_Front  KM_DEV_Front  \\\n",
       "0       0.390513           0.000601     128.379043  0.041950      0.037106   \n",
       "1       0.348259           0.000509     129.046143  0.041847      0.052308   \n",
       "2       0.407983           0.000620      53.861514  0.041439      0.031839   \n",
       "3       0.386216           0.000631      76.627232  0.041407      0.034478   \n",
       "4       0.373776           0.000921      94.511528  0.041983      0.037544   \n",
       "\n",
       "   A_Indep_Rear  A_RollSpeed_Rear  A_R2R2W_Rear   KM_Rear  KM_DEV_Rear  \\\n",
       "0      0.468861          0.000664     89.051406  0.042561     0.053677   \n",
       "1      0.338558          0.000449     86.579810  0.041813     0.041948   \n",
       "2      0.447917          0.001068     72.697784  0.041715     0.033923   \n",
       "3      0.384400          0.000903     79.220271  0.042135     0.032906   \n",
       "4      0.451047          0.000969     81.454951  0.041807     0.015890   \n",
       "\n",
       "   TR_PWM_SLOP_FRONT  TR_PWM_OFFSET_FRONT  R2_Front  TR_AccuENC_RATIO_FRONT  \\\n",
       "0           1.370314           -37.246261  0.999998                9.075283   \n",
       "1           1.374144           -28.468581  0.999986                9.075158   \n",
       "2           1.335473           -38.879725  0.999897                9.076344   \n",
       "3           1.331818           -32.805212  0.999993                9.075598   \n",
       "4           1.337583           -35.964199  0.999978                9.075733   \n",
       "\n",
       "   TR_PWM_SLOP_REAR  TR_PWM_OFFSET_REAR   R2_Rear  TR_AccuENC_RATIO_REAR  \\\n",
       "0          1.372229          -45.169482  0.999979               9.176037   \n",
       "1          1.370026          -40.577860  0.999983               9.174968   \n",
       "2          1.377100          -38.177445  0.999997               9.179953   \n",
       "3          1.379523          -58.649253  0.999995               9.156949   \n",
       "4          1.358422          -40.033938  0.999999               9.178558   \n",
       "\n",
       "  status  \n",
       "0      P  \n",
       "1      P  \n",
       "2      P  \n",
       "3      P  \n",
       "4      P  "
      ]
     },
     "execution_count": 55,
     "metadata": {},
     "output_type": "execute_result"
    }
   ],
   "source": [
    "model_bt_oversample.head()"
   ]
  },
  {
   "cell_type": "code",
   "execution_count": 56,
   "metadata": {},
   "outputs": [
    {
     "data": {
      "text/plain": [
       "(4628, 19)"
      ]
     },
     "execution_count": 56,
     "metadata": {},
     "output_type": "execute_result"
    }
   ],
   "source": [
    "model_bt_oversample.shape"
   ]
  },
  {
   "cell_type": "code",
   "execution_count": 57,
   "metadata": {},
   "outputs": [],
   "source": [
    "model_bt_oversample.to_csv('../Data/final_oversample.csv', index=False)"
   ]
  }
 ],
 "metadata": {
  "kernelspec": {
   "display_name": "Python 3",
   "language": "python",
   "name": "python3"
  },
  "language_info": {
   "codemirror_mode": {
    "name": "ipython",
    "version": 3
   },
   "file_extension": ".py",
   "mimetype": "text/x-python",
   "name": "python",
   "nbconvert_exporter": "python",
   "pygments_lexer": "ipython3",
   "version": "3.6.8"
  }
 },
 "nbformat": 4,
 "nbformat_minor": 2
}
